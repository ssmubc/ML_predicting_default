{
  "cells": [
    {
      "cell_type": "markdown",
      "metadata": {
        "id": "sXokO76ITlfC"
      },
      "source": [
        "# Predicting Default of Credit Card Clients\n",
        "\n",
        "## Coded by Sharon Marfatia\n",
        "\n",
        "**Data source: https://www.kaggle.com/datasets/uciml/default-of-credit-card-clients-dataset**\n",
        "\n",
        "In this data set, there are 30,000 examples and 24 features, and the goal is to estimate whether a person will default (fail to pay) their credit card bills; this column is labeled \"default.payment.next.month\" in the data."
      ]
    },
    {
      "cell_type": "markdown",
      "metadata": {
        "id": "Do_QvX2dTlfD"
      },
      "source": [
        "## Imports"
      ]
    },
    {
      "cell_type": "code",
      "execution_count": null,
      "metadata": {
        "id": "hUcnEMvATlfE"
      },
      "outputs": [],
      "source": [
        "import os\n",
        "\n",
        "%matplotlib inline\n",
        "import string\n",
        "import sys\n",
        "\n",
        "import matplotlib.pyplot as plt\n",
        "import numpy as np\n",
        "import pandas as pd\n",
        "\n",
        "import os\n",
        "import re\n",
        "import sys\n",
        "from hashlib import sha1\n",
        "\n",
        "import matplotlib.pyplot as plt\n",
        "import numpy as np\n",
        "import pandas as pd\n",
        "from sklearn import datasets\n",
        "from sklearn.compose import make_column_transformer\n",
        "from sklearn.dummy import DummyClassifier, DummyRegressor\n",
        "from sklearn.ensemble import RandomForestClassifier, RandomForestRegressor\n",
        "from sklearn.linear_model import LogisticRegression, Ridge\n",
        "from sklearn.metrics import (\n",
        "    accuracy_score,\n",
        "    classification_report,\n",
        "    confusion_matrix,\n",
        "    f1_score,\n",
        "    make_scorer,\n",
        "    precision_score,\n",
        "    recall_score,\n",
        ")\n",
        "from sklearn.model_selection import (\n",
        "    GridSearchCV,\n",
        "    RandomizedSearchCV,\n",
        "    cross_val_score,\n",
        "    cross_validate,\n",
        "    train_test_split,\n",
        ")\n",
        "from sklearn.pipeline import Pipeline, make_pipeline\n",
        "from sklearn.preprocessing import OneHotEncoder, OrdinalEncoder, StandardScaler\n",
        "from sklearn.impute import SimpleImputer\n",
        "from sklearn.tree import DecisionTreeClassifier\n",
        "from sklearn.svm import SVC\n",
        "\n",
        "from sklearn.feature_selection import RFECV\n",
        "from sklearn.feature_selection import SelectKBest, f_classif"
      ]
    },
    {
      "cell_type": "markdown",
      "metadata": {
        "id": "YbmVk6s3TlfF"
      },
      "source": [
        "<br><br>"
      ]
    },
    {
      "cell_type": "markdown",
      "metadata": {
        "id": "y3RcptmMTlfF"
      },
      "source": [
        "## 1. Picking the problem and explain the prediction problem"
      ]
    },
    {
      "cell_type": "markdown",
      "metadata": {
        "id": "SARFvbHUTlfF"
      },
      "source": [
        "1. This dataset is based on credit card clients from Taiwan from April 2005 to September 2005. It has information on the ID, limit balance sex, education, marriage, age, payment status from April to September (Pay_#), Bill Amount (BILL_ATM#), previous payment history (PAY_ATM#) and the default payment where 1 = yes, and 0 = no. We can use some of these features to predict whether the client will default or not."
      ]
    },
    {
      "cell_type": "code",
      "execution_count": null,
      "metadata": {
        "tags": [],
        "id": "d6PWYBvhTlfG",
        "outputId": "f7a7bc5e-b768-480b-d9e6-e9856ad93180"
      },
      "outputs": [
        {
          "data": {
            "text/html": [
              "<div>\n",
              "<style scoped>\n",
              "    .dataframe tbody tr th:only-of-type {\n",
              "        vertical-align: middle;\n",
              "    }\n",
              "\n",
              "    .dataframe tbody tr th {\n",
              "        vertical-align: top;\n",
              "    }\n",
              "\n",
              "    .dataframe thead th {\n",
              "        text-align: right;\n",
              "    }\n",
              "</style>\n",
              "<table border=\"1\" class=\"dataframe\">\n",
              "  <thead>\n",
              "    <tr style=\"text-align: right;\">\n",
              "      <th></th>\n",
              "      <th>ID</th>\n",
              "      <th>LIMIT_BAL</th>\n",
              "      <th>SEX</th>\n",
              "      <th>EDUCATION</th>\n",
              "      <th>MARRIAGE</th>\n",
              "      <th>AGE</th>\n",
              "      <th>PAY_0</th>\n",
              "      <th>PAY_2</th>\n",
              "      <th>PAY_3</th>\n",
              "      <th>PAY_4</th>\n",
              "      <th>...</th>\n",
              "      <th>BILL_AMT4</th>\n",
              "      <th>BILL_AMT5</th>\n",
              "      <th>BILL_AMT6</th>\n",
              "      <th>PAY_AMT1</th>\n",
              "      <th>PAY_AMT2</th>\n",
              "      <th>PAY_AMT3</th>\n",
              "      <th>PAY_AMT4</th>\n",
              "      <th>PAY_AMT5</th>\n",
              "      <th>PAY_AMT6</th>\n",
              "      <th>default.payment.next.month</th>\n",
              "    </tr>\n",
              "  </thead>\n",
              "  <tbody>\n",
              "    <tr>\n",
              "      <th>0</th>\n",
              "      <td>1</td>\n",
              "      <td>20000.0</td>\n",
              "      <td>2</td>\n",
              "      <td>2</td>\n",
              "      <td>1</td>\n",
              "      <td>24</td>\n",
              "      <td>2</td>\n",
              "      <td>2</td>\n",
              "      <td>-1</td>\n",
              "      <td>-1</td>\n",
              "      <td>...</td>\n",
              "      <td>0.0</td>\n",
              "      <td>0.0</td>\n",
              "      <td>0.0</td>\n",
              "      <td>0.0</td>\n",
              "      <td>689.0</td>\n",
              "      <td>0.0</td>\n",
              "      <td>0.0</td>\n",
              "      <td>0.0</td>\n",
              "      <td>0.0</td>\n",
              "      <td>1</td>\n",
              "    </tr>\n",
              "    <tr>\n",
              "      <th>1</th>\n",
              "      <td>2</td>\n",
              "      <td>120000.0</td>\n",
              "      <td>2</td>\n",
              "      <td>2</td>\n",
              "      <td>2</td>\n",
              "      <td>26</td>\n",
              "      <td>-1</td>\n",
              "      <td>2</td>\n",
              "      <td>0</td>\n",
              "      <td>0</td>\n",
              "      <td>...</td>\n",
              "      <td>3272.0</td>\n",
              "      <td>3455.0</td>\n",
              "      <td>3261.0</td>\n",
              "      <td>0.0</td>\n",
              "      <td>1000.0</td>\n",
              "      <td>1000.0</td>\n",
              "      <td>1000.0</td>\n",
              "      <td>0.0</td>\n",
              "      <td>2000.0</td>\n",
              "      <td>1</td>\n",
              "    </tr>\n",
              "    <tr>\n",
              "      <th>2</th>\n",
              "      <td>3</td>\n",
              "      <td>90000.0</td>\n",
              "      <td>2</td>\n",
              "      <td>2</td>\n",
              "      <td>2</td>\n",
              "      <td>34</td>\n",
              "      <td>0</td>\n",
              "      <td>0</td>\n",
              "      <td>0</td>\n",
              "      <td>0</td>\n",
              "      <td>...</td>\n",
              "      <td>14331.0</td>\n",
              "      <td>14948.0</td>\n",
              "      <td>15549.0</td>\n",
              "      <td>1518.0</td>\n",
              "      <td>1500.0</td>\n",
              "      <td>1000.0</td>\n",
              "      <td>1000.0</td>\n",
              "      <td>1000.0</td>\n",
              "      <td>5000.0</td>\n",
              "      <td>0</td>\n",
              "    </tr>\n",
              "    <tr>\n",
              "      <th>3</th>\n",
              "      <td>4</td>\n",
              "      <td>50000.0</td>\n",
              "      <td>2</td>\n",
              "      <td>2</td>\n",
              "      <td>1</td>\n",
              "      <td>37</td>\n",
              "      <td>0</td>\n",
              "      <td>0</td>\n",
              "      <td>0</td>\n",
              "      <td>0</td>\n",
              "      <td>...</td>\n",
              "      <td>28314.0</td>\n",
              "      <td>28959.0</td>\n",
              "      <td>29547.0</td>\n",
              "      <td>2000.0</td>\n",
              "      <td>2019.0</td>\n",
              "      <td>1200.0</td>\n",
              "      <td>1100.0</td>\n",
              "      <td>1069.0</td>\n",
              "      <td>1000.0</td>\n",
              "      <td>0</td>\n",
              "    </tr>\n",
              "    <tr>\n",
              "      <th>4</th>\n",
              "      <td>5</td>\n",
              "      <td>50000.0</td>\n",
              "      <td>1</td>\n",
              "      <td>2</td>\n",
              "      <td>1</td>\n",
              "      <td>57</td>\n",
              "      <td>-1</td>\n",
              "      <td>0</td>\n",
              "      <td>-1</td>\n",
              "      <td>0</td>\n",
              "      <td>...</td>\n",
              "      <td>20940.0</td>\n",
              "      <td>19146.0</td>\n",
              "      <td>19131.0</td>\n",
              "      <td>2000.0</td>\n",
              "      <td>36681.0</td>\n",
              "      <td>10000.0</td>\n",
              "      <td>9000.0</td>\n",
              "      <td>689.0</td>\n",
              "      <td>679.0</td>\n",
              "      <td>0</td>\n",
              "    </tr>\n",
              "  </tbody>\n",
              "</table>\n",
              "<p>5 rows × 25 columns</p>\n",
              "</div>"
            ],
            "text/plain": [
              "   ID  LIMIT_BAL  SEX  EDUCATION  MARRIAGE  AGE  PAY_0  PAY_2  PAY_3  PAY_4  \\\n",
              "0   1    20000.0    2          2         1   24      2      2     -1     -1   \n",
              "1   2   120000.0    2          2         2   26     -1      2      0      0   \n",
              "2   3    90000.0    2          2         2   34      0      0      0      0   \n",
              "3   4    50000.0    2          2         1   37      0      0      0      0   \n",
              "4   5    50000.0    1          2         1   57     -1      0     -1      0   \n",
              "\n",
              "   ...  BILL_AMT4  BILL_AMT5  BILL_AMT6  PAY_AMT1  PAY_AMT2  PAY_AMT3  \\\n",
              "0  ...        0.0        0.0        0.0       0.0     689.0       0.0   \n",
              "1  ...     3272.0     3455.0     3261.0       0.0    1000.0    1000.0   \n",
              "2  ...    14331.0    14948.0    15549.0    1518.0    1500.0    1000.0   \n",
              "3  ...    28314.0    28959.0    29547.0    2000.0    2019.0    1200.0   \n",
              "4  ...    20940.0    19146.0    19131.0    2000.0   36681.0   10000.0   \n",
              "\n",
              "   PAY_AMT4  PAY_AMT5  PAY_AMT6  default.payment.next.month  \n",
              "0       0.0       0.0       0.0                           1  \n",
              "1    1000.0       0.0    2000.0                           1  \n",
              "2    1000.0    1000.0    5000.0                           0  \n",
              "3    1100.0    1069.0    1000.0                           0  \n",
              "4    9000.0     689.0     679.0                           0  \n",
              "\n",
              "[5 rows x 25 columns]"
            ]
          },
          "execution_count": 3,
          "metadata": {},
          "output_type": "execute_result"
        }
      ],
      "source": [
        "credits_df = pd.read_csv(\"data/UCI_Credit_Card.csv\")\n",
        "credits_df.head()"
      ]
    },
    {
      "cell_type": "markdown",
      "metadata": {
        "id": "CHiiz9BgTlfH"
      },
      "source": [
        "<!-- END QUESTION -->\n",
        "\n",
        "<br><br>"
      ]
    },
    {
      "cell_type": "markdown",
      "metadata": {
        "id": "e2lemdQiTlfI"
      },
      "source": [
        "## 2. Data splitting"
      ]
    },
    {
      "cell_type": "code",
      "execution_count": null,
      "metadata": {
        "tags": [],
        "id": "vBlB2C9DTlfI"
      },
      "outputs": [],
      "source": [
        "train_df, test_df = train_test_split(credits_df, test_size = 0.3, random_state = 123)"
      ]
    },
    {
      "cell_type": "markdown",
      "metadata": {
        "id": "ilOhAD-GTlfI"
      },
      "source": [
        "<!-- END QUESTION -->\n",
        "\n",
        "<br><br>"
      ]
    },
    {
      "cell_type": "code",
      "execution_count": null,
      "metadata": {
        "id": "VGYxm3KpTlfJ",
        "outputId": "fb0efdf0-6a4f-45ab-99f3-34e05d7a8d63"
      },
      "outputs": [
        {
          "data": {
            "text/plain": [
              "2    9815\n",
              "1    7433\n",
              "3    3416\n",
              "5     210\n",
              "4      81\n",
              "6      35\n",
              "0      10\n",
              "Name: EDUCATION, dtype: int64"
            ]
          },
          "execution_count": 5,
          "metadata": {},
          "output_type": "execute_result"
        }
      ],
      "source": [
        "train_df['EDUCATION'].value_counts()"
      ]
    },
    {
      "cell_type": "markdown",
      "metadata": {
        "id": "-Cc4M1-kTlfJ"
      },
      "source": [
        "## 3. EDA"
      ]
    },
    {
      "cell_type": "code",
      "execution_count": null,
      "metadata": {
        "id": "Ny6jlQn8TlfJ",
        "outputId": "3163cd2c-3890-4e05-e7be-6275472d9d33"
      },
      "outputs": [
        {
          "data": {
            "text/html": [
              "<div>\n",
              "<style scoped>\n",
              "    .dataframe tbody tr th:only-of-type {\n",
              "        vertical-align: middle;\n",
              "    }\n",
              "\n",
              "    .dataframe tbody tr th {\n",
              "        vertical-align: top;\n",
              "    }\n",
              "\n",
              "    .dataframe thead th {\n",
              "        text-align: right;\n",
              "    }\n",
              "</style>\n",
              "<table border=\"1\" class=\"dataframe\">\n",
              "  <thead>\n",
              "    <tr style=\"text-align: right;\">\n",
              "      <th></th>\n",
              "      <th>ID</th>\n",
              "      <th>LIMIT_BAL</th>\n",
              "      <th>SEX</th>\n",
              "      <th>EDUCATION</th>\n",
              "      <th>MARRIAGE</th>\n",
              "      <th>AGE</th>\n",
              "      <th>PAY_0</th>\n",
              "      <th>PAY_2</th>\n",
              "      <th>PAY_3</th>\n",
              "      <th>PAY_4</th>\n",
              "      <th>...</th>\n",
              "      <th>BILL_AMT4</th>\n",
              "      <th>BILL_AMT5</th>\n",
              "      <th>BILL_AMT6</th>\n",
              "      <th>PAY_AMT1</th>\n",
              "      <th>PAY_AMT2</th>\n",
              "      <th>PAY_AMT3</th>\n",
              "      <th>PAY_AMT4</th>\n",
              "      <th>PAY_AMT5</th>\n",
              "      <th>PAY_AMT6</th>\n",
              "      <th>default.payment.next.month</th>\n",
              "    </tr>\n",
              "  </thead>\n",
              "  <tbody>\n",
              "    <tr>\n",
              "      <th>16395</th>\n",
              "      <td>16396</td>\n",
              "      <td>320000.0</td>\n",
              "      <td>2</td>\n",
              "      <td>1</td>\n",
              "      <td>2</td>\n",
              "      <td>36</td>\n",
              "      <td>0</td>\n",
              "      <td>0</td>\n",
              "      <td>0</td>\n",
              "      <td>0</td>\n",
              "      <td>...</td>\n",
              "      <td>19370.0</td>\n",
              "      <td>10155.0</td>\n",
              "      <td>3788.0</td>\n",
              "      <td>5000.0</td>\n",
              "      <td>5018.0</td>\n",
              "      <td>1000.0</td>\n",
              "      <td>3000.0</td>\n",
              "      <td>0.0</td>\n",
              "      <td>7013.0</td>\n",
              "      <td>0</td>\n",
              "    </tr>\n",
              "    <tr>\n",
              "      <th>21448</th>\n",
              "      <td>21449</td>\n",
              "      <td>440000.0</td>\n",
              "      <td>2</td>\n",
              "      <td>1</td>\n",
              "      <td>2</td>\n",
              "      <td>30</td>\n",
              "      <td>-1</td>\n",
              "      <td>-1</td>\n",
              "      <td>-1</td>\n",
              "      <td>0</td>\n",
              "      <td>...</td>\n",
              "      <td>171244.0</td>\n",
              "      <td>150897.0</td>\n",
              "      <td>117870.0</td>\n",
              "      <td>612.0</td>\n",
              "      <td>87426.0</td>\n",
              "      <td>130007.0</td>\n",
              "      <td>3018.0</td>\n",
              "      <td>15000.0</td>\n",
              "      <td>51663.0</td>\n",
              "      <td>0</td>\n",
              "    </tr>\n",
              "    <tr>\n",
              "      <th>20034</th>\n",
              "      <td>20035</td>\n",
              "      <td>160000.0</td>\n",
              "      <td>2</td>\n",
              "      <td>3</td>\n",
              "      <td>1</td>\n",
              "      <td>44</td>\n",
              "      <td>-2</td>\n",
              "      <td>-2</td>\n",
              "      <td>-2</td>\n",
              "      <td>-2</td>\n",
              "      <td>...</td>\n",
              "      <td>-18.0</td>\n",
              "      <td>-18.0</td>\n",
              "      <td>-18.0</td>\n",
              "      <td>0.0</td>\n",
              "      <td>0.0</td>\n",
              "      <td>0.0</td>\n",
              "      <td>0.0</td>\n",
              "      <td>0.0</td>\n",
              "      <td>0.0</td>\n",
              "      <td>0</td>\n",
              "    </tr>\n",
              "    <tr>\n",
              "      <th>25755</th>\n",
              "      <td>25756</td>\n",
              "      <td>120000.0</td>\n",
              "      <td>2</td>\n",
              "      <td>2</td>\n",
              "      <td>1</td>\n",
              "      <td>30</td>\n",
              "      <td>0</td>\n",
              "      <td>0</td>\n",
              "      <td>0</td>\n",
              "      <td>0</td>\n",
              "      <td>...</td>\n",
              "      <td>103058.0</td>\n",
              "      <td>71095.0</td>\n",
              "      <td>47379.0</td>\n",
              "      <td>3706.0</td>\n",
              "      <td>5502.0</td>\n",
              "      <td>4204.0</td>\n",
              "      <td>3017.0</td>\n",
              "      <td>2005.0</td>\n",
              "      <td>1702.0</td>\n",
              "      <td>0</td>\n",
              "    </tr>\n",
              "    <tr>\n",
              "      <th>1438</th>\n",
              "      <td>1439</td>\n",
              "      <td>50000.0</td>\n",
              "      <td>1</td>\n",
              "      <td>2</td>\n",
              "      <td>2</td>\n",
              "      <td>54</td>\n",
              "      <td>1</td>\n",
              "      <td>2</td>\n",
              "      <td>0</td>\n",
              "      <td>0</td>\n",
              "      <td>...</td>\n",
              "      <td>27585.0</td>\n",
              "      <td>27910.0</td>\n",
              "      <td>27380.0</td>\n",
              "      <td>0.0</td>\n",
              "      <td>1400.0</td>\n",
              "      <td>1200.0</td>\n",
              "      <td>1500.0</td>\n",
              "      <td>1000.0</td>\n",
              "      <td>1500.0</td>\n",
              "      <td>0</td>\n",
              "    </tr>\n",
              "  </tbody>\n",
              "</table>\n",
              "<p>5 rows × 25 columns</p>\n",
              "</div>"
            ],
            "text/plain": [
              "          ID  LIMIT_BAL  SEX  EDUCATION  MARRIAGE  AGE  PAY_0  PAY_2  PAY_3  \\\n",
              "16395  16396   320000.0    2          1         2   36      0      0      0   \n",
              "21448  21449   440000.0    2          1         2   30     -1     -1     -1   \n",
              "20034  20035   160000.0    2          3         1   44     -2     -2     -2   \n",
              "25755  25756   120000.0    2          2         1   30      0      0      0   \n",
              "1438    1439    50000.0    1          2         2   54      1      2      0   \n",
              "\n",
              "       PAY_4  ...  BILL_AMT4  BILL_AMT5  BILL_AMT6  PAY_AMT1  PAY_AMT2  \\\n",
              "16395      0  ...    19370.0    10155.0     3788.0    5000.0    5018.0   \n",
              "21448      0  ...   171244.0   150897.0   117870.0     612.0   87426.0   \n",
              "20034     -2  ...      -18.0      -18.0      -18.0       0.0       0.0   \n",
              "25755      0  ...   103058.0    71095.0    47379.0    3706.0    5502.0   \n",
              "1438       0  ...    27585.0    27910.0    27380.0       0.0    1400.0   \n",
              "\n",
              "       PAY_AMT3  PAY_AMT4  PAY_AMT5  PAY_AMT6  default.payment.next.month  \n",
              "16395    1000.0    3000.0       0.0    7013.0                           0  \n",
              "21448  130007.0    3018.0   15000.0   51663.0                           0  \n",
              "20034       0.0       0.0       0.0       0.0                           0  \n",
              "25755    4204.0    3017.0    2005.0    1702.0                           0  \n",
              "1438     1200.0    1500.0    1000.0    1500.0                           0  \n",
              "\n",
              "[5 rows x 25 columns]"
            ]
          },
          "execution_count": 6,
          "metadata": {},
          "output_type": "execute_result"
        }
      ],
      "source": [
        "train_df.head()"
      ]
    },
    {
      "cell_type": "code",
      "execution_count": null,
      "metadata": {
        "tags": [],
        "id": "wjzFDpt2TlfK",
        "outputId": "0d9c5c93-81b4-4df7-d764-57912cd8656b"
      },
      "outputs": [
        {
          "data": {
            "text/html": [
              "<div>\n",
              "<style scoped>\n",
              "    .dataframe tbody tr th:only-of-type {\n",
              "        vertical-align: middle;\n",
              "    }\n",
              "\n",
              "    .dataframe tbody tr th {\n",
              "        vertical-align: top;\n",
              "    }\n",
              "\n",
              "    .dataframe thead th {\n",
              "        text-align: right;\n",
              "    }\n",
              "</style>\n",
              "<table border=\"1\" class=\"dataframe\">\n",
              "  <thead>\n",
              "    <tr style=\"text-align: right;\">\n",
              "      <th></th>\n",
              "      <th>ID</th>\n",
              "      <th>LIMIT_BAL</th>\n",
              "      <th>SEX</th>\n",
              "      <th>EDUCATION</th>\n",
              "      <th>MARRIAGE</th>\n",
              "      <th>AGE</th>\n",
              "      <th>PAY_0</th>\n",
              "      <th>PAY_2</th>\n",
              "      <th>PAY_3</th>\n",
              "      <th>PAY_4</th>\n",
              "      <th>...</th>\n",
              "      <th>BILL_AMT4</th>\n",
              "      <th>BILL_AMT5</th>\n",
              "      <th>BILL_AMT6</th>\n",
              "      <th>PAY_AMT1</th>\n",
              "      <th>PAY_AMT2</th>\n",
              "      <th>PAY_AMT3</th>\n",
              "      <th>PAY_AMT4</th>\n",
              "      <th>PAY_AMT5</th>\n",
              "      <th>PAY_AMT6</th>\n",
              "      <th>default.payment.next.month</th>\n",
              "    </tr>\n",
              "  </thead>\n",
              "  <tbody>\n",
              "    <tr>\n",
              "      <th>0</th>\n",
              "      <td>1</td>\n",
              "      <td>20000.0</td>\n",
              "      <td>2</td>\n",
              "      <td>2</td>\n",
              "      <td>1</td>\n",
              "      <td>24</td>\n",
              "      <td>2</td>\n",
              "      <td>2</td>\n",
              "      <td>-1</td>\n",
              "      <td>-1</td>\n",
              "      <td>...</td>\n",
              "      <td>0.0</td>\n",
              "      <td>0.0</td>\n",
              "      <td>0.0</td>\n",
              "      <td>0.0</td>\n",
              "      <td>689.0</td>\n",
              "      <td>0.0</td>\n",
              "      <td>0.0</td>\n",
              "      <td>0.0</td>\n",
              "      <td>0.0</td>\n",
              "      <td>1</td>\n",
              "    </tr>\n",
              "    <tr>\n",
              "      <th>1</th>\n",
              "      <td>2</td>\n",
              "      <td>120000.0</td>\n",
              "      <td>2</td>\n",
              "      <td>2</td>\n",
              "      <td>2</td>\n",
              "      <td>26</td>\n",
              "      <td>-1</td>\n",
              "      <td>2</td>\n",
              "      <td>0</td>\n",
              "      <td>0</td>\n",
              "      <td>...</td>\n",
              "      <td>3272.0</td>\n",
              "      <td>3455.0</td>\n",
              "      <td>3261.0</td>\n",
              "      <td>0.0</td>\n",
              "      <td>1000.0</td>\n",
              "      <td>1000.0</td>\n",
              "      <td>1000.0</td>\n",
              "      <td>0.0</td>\n",
              "      <td>2000.0</td>\n",
              "      <td>1</td>\n",
              "    </tr>\n",
              "    <tr>\n",
              "      <th>2</th>\n",
              "      <td>3</td>\n",
              "      <td>90000.0</td>\n",
              "      <td>2</td>\n",
              "      <td>2</td>\n",
              "      <td>2</td>\n",
              "      <td>34</td>\n",
              "      <td>0</td>\n",
              "      <td>0</td>\n",
              "      <td>0</td>\n",
              "      <td>0</td>\n",
              "      <td>...</td>\n",
              "      <td>14331.0</td>\n",
              "      <td>14948.0</td>\n",
              "      <td>15549.0</td>\n",
              "      <td>1518.0</td>\n",
              "      <td>1500.0</td>\n",
              "      <td>1000.0</td>\n",
              "      <td>1000.0</td>\n",
              "      <td>1000.0</td>\n",
              "      <td>5000.0</td>\n",
              "      <td>0</td>\n",
              "    </tr>\n",
              "    <tr>\n",
              "      <th>3</th>\n",
              "      <td>4</td>\n",
              "      <td>50000.0</td>\n",
              "      <td>2</td>\n",
              "      <td>2</td>\n",
              "      <td>1</td>\n",
              "      <td>37</td>\n",
              "      <td>0</td>\n",
              "      <td>0</td>\n",
              "      <td>0</td>\n",
              "      <td>0</td>\n",
              "      <td>...</td>\n",
              "      <td>28314.0</td>\n",
              "      <td>28959.0</td>\n",
              "      <td>29547.0</td>\n",
              "      <td>2000.0</td>\n",
              "      <td>2019.0</td>\n",
              "      <td>1200.0</td>\n",
              "      <td>1100.0</td>\n",
              "      <td>1069.0</td>\n",
              "      <td>1000.0</td>\n",
              "      <td>0</td>\n",
              "    </tr>\n",
              "    <tr>\n",
              "      <th>4</th>\n",
              "      <td>5</td>\n",
              "      <td>50000.0</td>\n",
              "      <td>1</td>\n",
              "      <td>2</td>\n",
              "      <td>1</td>\n",
              "      <td>57</td>\n",
              "      <td>-1</td>\n",
              "      <td>0</td>\n",
              "      <td>-1</td>\n",
              "      <td>0</td>\n",
              "      <td>...</td>\n",
              "      <td>20940.0</td>\n",
              "      <td>19146.0</td>\n",
              "      <td>19131.0</td>\n",
              "      <td>2000.0</td>\n",
              "      <td>36681.0</td>\n",
              "      <td>10000.0</td>\n",
              "      <td>9000.0</td>\n",
              "      <td>689.0</td>\n",
              "      <td>679.0</td>\n",
              "      <td>0</td>\n",
              "    </tr>\n",
              "    <tr>\n",
              "      <th>...</th>\n",
              "      <td>...</td>\n",
              "      <td>...</td>\n",
              "      <td>...</td>\n",
              "      <td>...</td>\n",
              "      <td>...</td>\n",
              "      <td>...</td>\n",
              "      <td>...</td>\n",
              "      <td>...</td>\n",
              "      <td>...</td>\n",
              "      <td>...</td>\n",
              "      <td>...</td>\n",
              "      <td>...</td>\n",
              "      <td>...</td>\n",
              "      <td>...</td>\n",
              "      <td>...</td>\n",
              "      <td>...</td>\n",
              "      <td>...</td>\n",
              "      <td>...</td>\n",
              "      <td>...</td>\n",
              "      <td>...</td>\n",
              "      <td>...</td>\n",
              "    </tr>\n",
              "    <tr>\n",
              "      <th>29995</th>\n",
              "      <td>29996</td>\n",
              "      <td>220000.0</td>\n",
              "      <td>1</td>\n",
              "      <td>3</td>\n",
              "      <td>1</td>\n",
              "      <td>39</td>\n",
              "      <td>0</td>\n",
              "      <td>0</td>\n",
              "      <td>0</td>\n",
              "      <td>0</td>\n",
              "      <td>...</td>\n",
              "      <td>88004.0</td>\n",
              "      <td>31237.0</td>\n",
              "      <td>15980.0</td>\n",
              "      <td>8500.0</td>\n",
              "      <td>20000.0</td>\n",
              "      <td>5003.0</td>\n",
              "      <td>3047.0</td>\n",
              "      <td>5000.0</td>\n",
              "      <td>1000.0</td>\n",
              "      <td>0</td>\n",
              "    </tr>\n",
              "    <tr>\n",
              "      <th>29996</th>\n",
              "      <td>29997</td>\n",
              "      <td>150000.0</td>\n",
              "      <td>1</td>\n",
              "      <td>3</td>\n",
              "      <td>2</td>\n",
              "      <td>43</td>\n",
              "      <td>-1</td>\n",
              "      <td>-1</td>\n",
              "      <td>-1</td>\n",
              "      <td>-1</td>\n",
              "      <td>...</td>\n",
              "      <td>8979.0</td>\n",
              "      <td>5190.0</td>\n",
              "      <td>0.0</td>\n",
              "      <td>1837.0</td>\n",
              "      <td>3526.0</td>\n",
              "      <td>8998.0</td>\n",
              "      <td>129.0</td>\n",
              "      <td>0.0</td>\n",
              "      <td>0.0</td>\n",
              "      <td>0</td>\n",
              "    </tr>\n",
              "    <tr>\n",
              "      <th>29997</th>\n",
              "      <td>29998</td>\n",
              "      <td>30000.0</td>\n",
              "      <td>1</td>\n",
              "      <td>2</td>\n",
              "      <td>2</td>\n",
              "      <td>37</td>\n",
              "      <td>4</td>\n",
              "      <td>3</td>\n",
              "      <td>2</td>\n",
              "      <td>-1</td>\n",
              "      <td>...</td>\n",
              "      <td>20878.0</td>\n",
              "      <td>20582.0</td>\n",
              "      <td>19357.0</td>\n",
              "      <td>0.0</td>\n",
              "      <td>0.0</td>\n",
              "      <td>22000.0</td>\n",
              "      <td>4200.0</td>\n",
              "      <td>2000.0</td>\n",
              "      <td>3100.0</td>\n",
              "      <td>1</td>\n",
              "    </tr>\n",
              "    <tr>\n",
              "      <th>29998</th>\n",
              "      <td>29999</td>\n",
              "      <td>80000.0</td>\n",
              "      <td>1</td>\n",
              "      <td>3</td>\n",
              "      <td>1</td>\n",
              "      <td>41</td>\n",
              "      <td>1</td>\n",
              "      <td>-1</td>\n",
              "      <td>0</td>\n",
              "      <td>0</td>\n",
              "      <td>...</td>\n",
              "      <td>52774.0</td>\n",
              "      <td>11855.0</td>\n",
              "      <td>48944.0</td>\n",
              "      <td>85900.0</td>\n",
              "      <td>3409.0</td>\n",
              "      <td>1178.0</td>\n",
              "      <td>1926.0</td>\n",
              "      <td>52964.0</td>\n",
              "      <td>1804.0</td>\n",
              "      <td>1</td>\n",
              "    </tr>\n",
              "    <tr>\n",
              "      <th>29999</th>\n",
              "      <td>30000</td>\n",
              "      <td>50000.0</td>\n",
              "      <td>1</td>\n",
              "      <td>2</td>\n",
              "      <td>1</td>\n",
              "      <td>46</td>\n",
              "      <td>0</td>\n",
              "      <td>0</td>\n",
              "      <td>0</td>\n",
              "      <td>0</td>\n",
              "      <td>...</td>\n",
              "      <td>36535.0</td>\n",
              "      <td>32428.0</td>\n",
              "      <td>15313.0</td>\n",
              "      <td>2078.0</td>\n",
              "      <td>1800.0</td>\n",
              "      <td>1430.0</td>\n",
              "      <td>1000.0</td>\n",
              "      <td>1000.0</td>\n",
              "      <td>1000.0</td>\n",
              "      <td>1</td>\n",
              "    </tr>\n",
              "  </tbody>\n",
              "</table>\n",
              "<p>21000 rows × 25 columns</p>\n",
              "</div>"
            ],
            "text/plain": [
              "          ID  LIMIT_BAL  SEX  EDUCATION  MARRIAGE  AGE  PAY_0  PAY_2  PAY_3  \\\n",
              "0          1    20000.0    2          2         1   24      2      2     -1   \n",
              "1          2   120000.0    2          2         2   26     -1      2      0   \n",
              "2          3    90000.0    2          2         2   34      0      0      0   \n",
              "3          4    50000.0    2          2         1   37      0      0      0   \n",
              "4          5    50000.0    1          2         1   57     -1      0     -1   \n",
              "...      ...        ...  ...        ...       ...  ...    ...    ...    ...   \n",
              "29995  29996   220000.0    1          3         1   39      0      0      0   \n",
              "29996  29997   150000.0    1          3         2   43     -1     -1     -1   \n",
              "29997  29998    30000.0    1          2         2   37      4      3      2   \n",
              "29998  29999    80000.0    1          3         1   41      1     -1      0   \n",
              "29999  30000    50000.0    1          2         1   46      0      0      0   \n",
              "\n",
              "       PAY_4  ...  BILL_AMT4  BILL_AMT5  BILL_AMT6  PAY_AMT1  PAY_AMT2  \\\n",
              "0         -1  ...        0.0        0.0        0.0       0.0     689.0   \n",
              "1          0  ...     3272.0     3455.0     3261.0       0.0    1000.0   \n",
              "2          0  ...    14331.0    14948.0    15549.0    1518.0    1500.0   \n",
              "3          0  ...    28314.0    28959.0    29547.0    2000.0    2019.0   \n",
              "4          0  ...    20940.0    19146.0    19131.0    2000.0   36681.0   \n",
              "...      ...  ...        ...        ...        ...       ...       ...   \n",
              "29995      0  ...    88004.0    31237.0    15980.0    8500.0   20000.0   \n",
              "29996     -1  ...     8979.0     5190.0        0.0    1837.0    3526.0   \n",
              "29997     -1  ...    20878.0    20582.0    19357.0       0.0       0.0   \n",
              "29998      0  ...    52774.0    11855.0    48944.0   85900.0    3409.0   \n",
              "29999      0  ...    36535.0    32428.0    15313.0    2078.0    1800.0   \n",
              "\n",
              "       PAY_AMT3  PAY_AMT4  PAY_AMT5  PAY_AMT6  default.payment.next.month  \n",
              "0           0.0       0.0       0.0       0.0                           1  \n",
              "1        1000.0    1000.0       0.0    2000.0                           1  \n",
              "2        1000.0    1000.0    1000.0    5000.0                           0  \n",
              "3        1200.0    1100.0    1069.0    1000.0                           0  \n",
              "4       10000.0    9000.0     689.0     679.0                           0  \n",
              "...         ...       ...       ...       ...                         ...  \n",
              "29995    5003.0    3047.0    5000.0    1000.0                           0  \n",
              "29996    8998.0     129.0       0.0       0.0                           0  \n",
              "29997   22000.0    4200.0    2000.0    3100.0                           1  \n",
              "29998    1178.0    1926.0   52964.0    1804.0                           1  \n",
              "29999    1430.0    1000.0    1000.0    1000.0                           1  \n",
              "\n",
              "[21000 rows x 25 columns]"
            ]
          },
          "execution_count": 7,
          "metadata": {},
          "output_type": "execute_result"
        }
      ],
      "source": [
        "# Part 1:\n",
        "train_df.sort_index()"
      ]
    },
    {
      "cell_type": "code",
      "execution_count": null,
      "metadata": {
        "tags": [],
        "id": "IoUio3LHTlfK",
        "outputId": "0dd73f99-4d1c-4ed5-8742-8af469aee489"
      },
      "outputs": [
        {
          "data": {
            "text/plain": [
              "ID                            0\n",
              "LIMIT_BAL                     0\n",
              "SEX                           0\n",
              "EDUCATION                     0\n",
              "MARRIAGE                      0\n",
              "AGE                           0\n",
              "PAY_0                         0\n",
              "PAY_2                         0\n",
              "PAY_3                         0\n",
              "PAY_4                         0\n",
              "PAY_5                         0\n",
              "PAY_6                         0\n",
              "BILL_AMT1                     0\n",
              "BILL_AMT2                     0\n",
              "BILL_AMT3                     0\n",
              "BILL_AMT4                     0\n",
              "BILL_AMT5                     0\n",
              "BILL_AMT6                     0\n",
              "PAY_AMT1                      0\n",
              "PAY_AMT2                      0\n",
              "PAY_AMT3                      0\n",
              "PAY_AMT4                      0\n",
              "PAY_AMT5                      0\n",
              "PAY_AMT6                      0\n",
              "default.payment.next.month    0\n",
              "dtype: int64"
            ]
          },
          "execution_count": 8,
          "metadata": {},
          "output_type": "execute_result"
        }
      ],
      "source": [
        "train_df.isna().sum()"
      ]
    },
    {
      "cell_type": "code",
      "execution_count": null,
      "metadata": {
        "id": "1dQXTS72TlfK",
        "outputId": "ec8d6f43-7788-472c-d901-d2261c4085c5"
      },
      "outputs": [
        {
          "data": {
            "text/plain": [
              "array([ 0, -1, -2,  1,  2,  3,  5,  8,  7,  4,  6], dtype=int64)"
            ]
          },
          "execution_count": 9,
          "metadata": {},
          "output_type": "execute_result"
        }
      ],
      "source": [
        "train_df[\"PAY_0\"].unique()"
      ]
    },
    {
      "cell_type": "code",
      "execution_count": null,
      "metadata": {
        "id": "mO28E_rJTlfK"
      },
      "outputs": [],
      "source": [
        "# We dont know what the column values 0, -2 represent for Pay columns based on the description of the dataset on Kaggle\n",
        "# so we are replacing them with 0 for now. We will replace these values with the most frequent value in the column during the\n",
        "# imputation step. We have also replaced 5 and 6 with 0 in the Education column for the same reason.\n",
        "# As per the dataset description on Kaggle (https://www.kaggle.com/datasets/uciml/default-of-credit-card-clients-dataset)there\n",
        "# is no information for these missing values so we have to use our best judgement to find a solution for these missing values.\n",
        "\n",
        "columns_to_replace = ['EDUCATION', 'MARRIAGE', 'PAY_0', 'PAY_2', 'PAY_3', 'PAY_4', 'PAY_5', 'PAY_6']\n",
        "\n",
        "train_df['EDUCATION'] = train_df['EDUCATION'].replace(5, 0)\n",
        "test_df['EDUCATION'] = test_df['EDUCATION'].replace(5, 0)\n",
        "\n",
        "train_df['EDUCATION'] = train_df['EDUCATION'].replace(6, 0)\n",
        "test_df['EDUCATION'] = test_df['EDUCATION'].replace(6, 0)\n",
        "\n",
        "train_df[columns_to_replace] = train_df[columns_to_replace].replace(-2, 0)\n",
        "test_df[columns_to_replace] = test_df[columns_to_replace].replace(-2, 0)\n"
      ]
    },
    {
      "cell_type": "code",
      "execution_count": null,
      "metadata": {
        "tags": [],
        "id": "YiDLSzErTlfL",
        "outputId": "b080e8b0-bee1-4bb1-c611-6176e246b01a"
      },
      "outputs": [
        {
          "data": {
            "text/html": [
              "<div>\n",
              "<style scoped>\n",
              "    .dataframe tbody tr th:only-of-type {\n",
              "        vertical-align: middle;\n",
              "    }\n",
              "\n",
              "    .dataframe tbody tr th {\n",
              "        vertical-align: top;\n",
              "    }\n",
              "\n",
              "    .dataframe thead th {\n",
              "        text-align: right;\n",
              "    }\n",
              "</style>\n",
              "<table border=\"1\" class=\"dataframe\">\n",
              "  <thead>\n",
              "    <tr style=\"text-align: right;\">\n",
              "      <th></th>\n",
              "      <th>ID</th>\n",
              "      <th>LIMIT_BAL</th>\n",
              "      <th>SEX</th>\n",
              "      <th>EDUCATION</th>\n",
              "      <th>MARRIAGE</th>\n",
              "      <th>AGE</th>\n",
              "      <th>PAY_0</th>\n",
              "      <th>PAY_2</th>\n",
              "      <th>PAY_3</th>\n",
              "      <th>PAY_4</th>\n",
              "      <th>...</th>\n",
              "      <th>BILL_AMT4</th>\n",
              "      <th>BILL_AMT5</th>\n",
              "      <th>BILL_AMT6</th>\n",
              "      <th>PAY_AMT1</th>\n",
              "      <th>PAY_AMT2</th>\n",
              "      <th>PAY_AMT3</th>\n",
              "      <th>PAY_AMT4</th>\n",
              "      <th>PAY_AMT5</th>\n",
              "      <th>PAY_AMT6</th>\n",
              "      <th>default.payment.next.month</th>\n",
              "    </tr>\n",
              "  </thead>\n",
              "  <tbody>\n",
              "    <tr>\n",
              "      <th>count</th>\n",
              "      <td>21000.000000</td>\n",
              "      <td>21000.000000</td>\n",
              "      <td>21000.000000</td>\n",
              "      <td>21000.000000</td>\n",
              "      <td>21000.000000</td>\n",
              "      <td>21000.000000</td>\n",
              "      <td>21000.000000</td>\n",
              "      <td>21000.000000</td>\n",
              "      <td>21000.000000</td>\n",
              "      <td>21000.000000</td>\n",
              "      <td>...</td>\n",
              "      <td>21000.000000</td>\n",
              "      <td>21000.000000</td>\n",
              "      <td>21000.000000</td>\n",
              "      <td>21000.000000</td>\n",
              "      <td>2.100000e+04</td>\n",
              "      <td>21000.000000</td>\n",
              "      <td>21000.000000</td>\n",
              "      <td>21000.000000</td>\n",
              "      <td>21000.000000</td>\n",
              "      <td>21000.000000</td>\n",
              "    </tr>\n",
              "    <tr>\n",
              "      <th>mean</th>\n",
              "      <td>14962.348238</td>\n",
              "      <td>167880.651429</td>\n",
              "      <td>1.600762</td>\n",
              "      <td>1.792143</td>\n",
              "      <td>1.554000</td>\n",
              "      <td>35.500810</td>\n",
              "      <td>0.163524</td>\n",
              "      <td>0.113095</td>\n",
              "      <td>0.102952</td>\n",
              "      <td>0.066000</td>\n",
              "      <td>...</td>\n",
              "      <td>43486.610905</td>\n",
              "      <td>40428.518333</td>\n",
              "      <td>38767.202667</td>\n",
              "      <td>5673.585143</td>\n",
              "      <td>5.895027e+03</td>\n",
              "      <td>5311.432286</td>\n",
              "      <td>4774.021381</td>\n",
              "      <td>4751.850095</td>\n",
              "      <td>5237.762190</td>\n",
              "      <td>0.223238</td>\n",
              "    </tr>\n",
              "    <tr>\n",
              "      <th>std</th>\n",
              "      <td>8650.734050</td>\n",
              "      <td>130202.682167</td>\n",
              "      <td>0.489753</td>\n",
              "      <td>0.733103</td>\n",
              "      <td>0.521675</td>\n",
              "      <td>9.212644</td>\n",
              "      <td>0.933282</td>\n",
              "      <td>0.965632</td>\n",
              "      <td>0.948892</td>\n",
              "      <td>0.910713</td>\n",
              "      <td>...</td>\n",
              "      <td>64843.303993</td>\n",
              "      <td>61187.200817</td>\n",
              "      <td>59587.689549</td>\n",
              "      <td>17033.241454</td>\n",
              "      <td>2.180143e+04</td>\n",
              "      <td>18377.997079</td>\n",
              "      <td>15434.136142</td>\n",
              "      <td>15228.193125</td>\n",
              "      <td>18116.846563</td>\n",
              "      <td>0.416427</td>\n",
              "    </tr>\n",
              "    <tr>\n",
              "      <th>min</th>\n",
              "      <td>1.000000</td>\n",
              "      <td>10000.000000</td>\n",
              "      <td>1.000000</td>\n",
              "      <td>0.000000</td>\n",
              "      <td>0.000000</td>\n",
              "      <td>21.000000</td>\n",
              "      <td>-1.000000</td>\n",
              "      <td>-1.000000</td>\n",
              "      <td>-1.000000</td>\n",
              "      <td>-1.000000</td>\n",
              "      <td>...</td>\n",
              "      <td>-50616.000000</td>\n",
              "      <td>-61372.000000</td>\n",
              "      <td>-339603.000000</td>\n",
              "      <td>0.000000</td>\n",
              "      <td>0.000000e+00</td>\n",
              "      <td>0.000000</td>\n",
              "      <td>0.000000</td>\n",
              "      <td>0.000000</td>\n",
              "      <td>0.000000</td>\n",
              "      <td>0.000000</td>\n",
              "    </tr>\n",
              "    <tr>\n",
              "      <th>25%</th>\n",
              "      <td>7498.750000</td>\n",
              "      <td>50000.000000</td>\n",
              "      <td>1.000000</td>\n",
              "      <td>1.000000</td>\n",
              "      <td>1.000000</td>\n",
              "      <td>28.000000</td>\n",
              "      <td>0.000000</td>\n",
              "      <td>0.000000</td>\n",
              "      <td>0.000000</td>\n",
              "      <td>0.000000</td>\n",
              "      <td>...</td>\n",
              "      <td>2293.750000</td>\n",
              "      <td>1739.500000</td>\n",
              "      <td>1215.750000</td>\n",
              "      <td>1000.000000</td>\n",
              "      <td>8.200000e+02</td>\n",
              "      <td>390.000000</td>\n",
              "      <td>266.000000</td>\n",
              "      <td>234.000000</td>\n",
              "      <td>110.750000</td>\n",
              "      <td>0.000000</td>\n",
              "    </tr>\n",
              "    <tr>\n",
              "      <th>50%</th>\n",
              "      <td>14960.500000</td>\n",
              "      <td>140000.000000</td>\n",
              "      <td>2.000000</td>\n",
              "      <td>2.000000</td>\n",
              "      <td>2.000000</td>\n",
              "      <td>34.000000</td>\n",
              "      <td>0.000000</td>\n",
              "      <td>0.000000</td>\n",
              "      <td>0.000000</td>\n",
              "      <td>0.000000</td>\n",
              "      <td>...</td>\n",
              "      <td>19102.500000</td>\n",
              "      <td>18083.000000</td>\n",
              "      <td>16854.500000</td>\n",
              "      <td>2100.000000</td>\n",
              "      <td>2.007000e+03</td>\n",
              "      <td>1809.500000</td>\n",
              "      <td>1500.000000</td>\n",
              "      <td>1500.000000</td>\n",
              "      <td>1500.000000</td>\n",
              "      <td>0.000000</td>\n",
              "    </tr>\n",
              "    <tr>\n",
              "      <th>75%</th>\n",
              "      <td>22458.250000</td>\n",
              "      <td>240000.000000</td>\n",
              "      <td>2.000000</td>\n",
              "      <td>2.000000</td>\n",
              "      <td>2.000000</td>\n",
              "      <td>41.000000</td>\n",
              "      <td>0.000000</td>\n",
              "      <td>0.000000</td>\n",
              "      <td>0.000000</td>\n",
              "      <td>0.000000</td>\n",
              "      <td>...</td>\n",
              "      <td>54763.250000</td>\n",
              "      <td>50491.000000</td>\n",
              "      <td>49253.750000</td>\n",
              "      <td>5007.250000</td>\n",
              "      <td>5.000000e+03</td>\n",
              "      <td>4628.500000</td>\n",
              "      <td>4021.250000</td>\n",
              "      <td>4016.000000</td>\n",
              "      <td>4000.000000</td>\n",
              "      <td>0.000000</td>\n",
              "    </tr>\n",
              "    <tr>\n",
              "      <th>max</th>\n",
              "      <td>30000.000000</td>\n",
              "      <td>1000000.000000</td>\n",
              "      <td>2.000000</td>\n",
              "      <td>4.000000</td>\n",
              "      <td>3.000000</td>\n",
              "      <td>79.000000</td>\n",
              "      <td>8.000000</td>\n",
              "      <td>8.000000</td>\n",
              "      <td>8.000000</td>\n",
              "      <td>8.000000</td>\n",
              "      <td>...</td>\n",
              "      <td>891586.000000</td>\n",
              "      <td>927171.000000</td>\n",
              "      <td>961664.000000</td>\n",
              "      <td>873552.000000</td>\n",
              "      <td>1.227082e+06</td>\n",
              "      <td>896040.000000</td>\n",
              "      <td>621000.000000</td>\n",
              "      <td>426529.000000</td>\n",
              "      <td>528666.000000</td>\n",
              "      <td>1.000000</td>\n",
              "    </tr>\n",
              "  </tbody>\n",
              "</table>\n",
              "<p>8 rows × 25 columns</p>\n",
              "</div>"
            ],
            "text/plain": [
              "                 ID       LIMIT_BAL           SEX     EDUCATION      MARRIAGE  \\\n",
              "count  21000.000000    21000.000000  21000.000000  21000.000000  21000.000000   \n",
              "mean   14962.348238   167880.651429      1.600762      1.792143      1.554000   \n",
              "std     8650.734050   130202.682167      0.489753      0.733103      0.521675   \n",
              "min        1.000000    10000.000000      1.000000      0.000000      0.000000   \n",
              "25%     7498.750000    50000.000000      1.000000      1.000000      1.000000   \n",
              "50%    14960.500000   140000.000000      2.000000      2.000000      2.000000   \n",
              "75%    22458.250000   240000.000000      2.000000      2.000000      2.000000   \n",
              "max    30000.000000  1000000.000000      2.000000      4.000000      3.000000   \n",
              "\n",
              "                AGE         PAY_0         PAY_2         PAY_3         PAY_4  \\\n",
              "count  21000.000000  21000.000000  21000.000000  21000.000000  21000.000000   \n",
              "mean      35.500810      0.163524      0.113095      0.102952      0.066000   \n",
              "std        9.212644      0.933282      0.965632      0.948892      0.910713   \n",
              "min       21.000000     -1.000000     -1.000000     -1.000000     -1.000000   \n",
              "25%       28.000000      0.000000      0.000000      0.000000      0.000000   \n",
              "50%       34.000000      0.000000      0.000000      0.000000      0.000000   \n",
              "75%       41.000000      0.000000      0.000000      0.000000      0.000000   \n",
              "max       79.000000      8.000000      8.000000      8.000000      8.000000   \n",
              "\n",
              "       ...      BILL_AMT4      BILL_AMT5      BILL_AMT6       PAY_AMT1  \\\n",
              "count  ...   21000.000000   21000.000000   21000.000000   21000.000000   \n",
              "mean   ...   43486.610905   40428.518333   38767.202667    5673.585143   \n",
              "std    ...   64843.303993   61187.200817   59587.689549   17033.241454   \n",
              "min    ...  -50616.000000  -61372.000000 -339603.000000       0.000000   \n",
              "25%    ...    2293.750000    1739.500000    1215.750000    1000.000000   \n",
              "50%    ...   19102.500000   18083.000000   16854.500000    2100.000000   \n",
              "75%    ...   54763.250000   50491.000000   49253.750000    5007.250000   \n",
              "max    ...  891586.000000  927171.000000  961664.000000  873552.000000   \n",
              "\n",
              "           PAY_AMT2       PAY_AMT3       PAY_AMT4       PAY_AMT5  \\\n",
              "count  2.100000e+04   21000.000000   21000.000000   21000.000000   \n",
              "mean   5.895027e+03    5311.432286    4774.021381    4751.850095   \n",
              "std    2.180143e+04   18377.997079   15434.136142   15228.193125   \n",
              "min    0.000000e+00       0.000000       0.000000       0.000000   \n",
              "25%    8.200000e+02     390.000000     266.000000     234.000000   \n",
              "50%    2.007000e+03    1809.500000    1500.000000    1500.000000   \n",
              "75%    5.000000e+03    4628.500000    4021.250000    4016.000000   \n",
              "max    1.227082e+06  896040.000000  621000.000000  426529.000000   \n",
              "\n",
              "            PAY_AMT6  default.payment.next.month  \n",
              "count   21000.000000                21000.000000  \n",
              "mean     5237.762190                    0.223238  \n",
              "std     18116.846563                    0.416427  \n",
              "min         0.000000                    0.000000  \n",
              "25%       110.750000                    0.000000  \n",
              "50%      1500.000000                    0.000000  \n",
              "75%      4000.000000                    0.000000  \n",
              "max    528666.000000                    1.000000  \n",
              "\n",
              "[8 rows x 25 columns]"
            ]
          },
          "execution_count": 11,
          "metadata": {},
          "output_type": "execute_result"
        }
      ],
      "source": [
        "credits_summary = train_df.describe(include=\"all\")\n",
        "credits_summary"
      ]
    },
    {
      "cell_type": "code",
      "execution_count": null,
      "metadata": {
        "tags": [],
        "id": "OhWhioUcTlfL",
        "outputId": "a86125db-4561-43ea-b220-2941e9b403d4"
      },
      "outputs": [
        {
          "name": "stdout",
          "output_type": "stream",
          "text": [
            "Maximum payment delay in months for September is 8.0\n",
            "Maximum payment delay in months for August is 8.0\n",
            "Maximum payment delay in months for July is 8.0\n",
            "Maximum payment delay in months for June is 8.0\n",
            "Maximum payment delay in months for May is 8.0\n",
            "Maximum payment delay in months for April is 8.0\n"
          ]
        }
      ],
      "source": [
        "# 1st summary statistic\n",
        "print(\"Maximum payment delay in months for September is\", credits_summary.loc['max']['PAY_0'])\n",
        "months = {2: \"August\", 3: \"July\", 4: \"June\", 5: \"May\", 6: \"April\"}\n",
        "for i in range(2, 7):\n",
        "    x = credits_summary.loc['max']['PAY_' + str(i)]\n",
        "    print(\"Maximum payment delay in months for\", months[i], \"is\", x)"
      ]
    },
    {
      "cell_type": "code",
      "execution_count": null,
      "metadata": {
        "tags": [],
        "id": "bf7QA4YZTlfM",
        "outputId": "43977f62-2d57-43f0-b904-421c3dd1b03d"
      },
      "outputs": [
        {
          "name": "stdout",
          "output_type": "stream",
          "text": [
            "Mean amount of bill statement in September is 5673.585142857143 (NT dollar)\n",
            "Mean amount of bill statement in August is 5895.026904761905 (NT dollar)\n",
            "Mean amount of bill statement in July is 5311.432285714286 (NT dollar)\n",
            "Mean amount of bill statement in June is 4774.021380952381 (NT dollar)\n",
            "Mean amount of bill statement in May is 4751.8500952380955 (NT dollar)\n",
            "Mean amount of bill statement in April is 5237.762190476191 (NT dollar)\n"
          ]
        }
      ],
      "source": [
        "# 2nd summary statistic\n",
        "months = {1: \"September\", 2: \"August\", 3: \"July\", 4: \"June\", 5: \"May\", 6: \"April\"}\n",
        "for i in range(1, 7):\n",
        "    x = credits_summary.loc['mean']['PAY_AMT' + str(i)]\n",
        "    print(\"Mean amount of bill statement in\", months[i], \"is\", x, \"(NT dollar)\")\n"
      ]
    },
    {
      "cell_type": "code",
      "execution_count": null,
      "metadata": {
        "tags": [],
        "id": "_bEVw_dKTlfM",
        "outputId": "5b7b51b6-f1f6-43a6-f37f-d8566fb8a9ab"
      },
      "outputs": [
        {
          "data": {
            "image/png": "[encoded data removed]",
            "text/plain": [
              "<Figure size 640x480 with 1 Axes>"
            ]
          },
          "metadata": {},
          "output_type": "display_data"
        },
        {
          "data": {
            "image/png": "[encoded data removed]",
            "text/plain": [
              "<Figure size 640x480 with 1 Axes>"
            ]
          },
          "metadata": {},
          "output_type": "display_data"
        }
      ],
      "source": [
        "# 2 Visualizations, adapted from hw3\n",
        "\n",
        "numeric_cols = [\"LIMIT_BAL\", \"AGE\"]\n",
        "for feat in numeric_cols:\n",
        "    ax = train_df.groupby(\"default.payment.next.month\")[feat].plot.hist(bins=20, alpha=0.4, legend=True)\n",
        "    plt.xlabel(feat)\n",
        "    plt.title(\"Histogram of \" + feat)\n",
        "    plt.show()"
      ]
    },
    {
      "cell_type": "markdown",
      "metadata": {
        "id": "xAO5myKjTlfN"
      },
      "source": [
        "The first histogram for Limit Balance (cap on the total credit card debt that can be incurred by the cardholder) shows that the frequency of default decreases significantly as the limit balance increases. The occurrence of defaulting visibly stopped for a limit balance greater than 0.6. The second histogram for Age tells us that the age where people did not default peaked at around age 29. This may be because people at that age are trying to build their credit history. We see the frequency of default stopped at around the age of 70 and the frequency of default decreases with age overall."
      ]
    },
    {
      "cell_type": "markdown",
      "metadata": {
        "tags": [],
        "id": "vktO3r8bTlfN"
      },
      "source": [
        "Summarize your initial observations about the data:\n",
        "\n",
        "There is large class imbalance between individuals who default and those who paid. The frequency of people who paid (16312) is significantly higher than those who did not pay (4688), around 3.5 times more."
      ]
    },
    {
      "cell_type": "code",
      "execution_count": null,
      "metadata": {
        "tags": [],
        "id": "k5lp5__9TlfN",
        "outputId": "3abcc496-9a2d-4712-956b-a73f7f812b69"
      },
      "outputs": [
        {
          "data": {
            "text/plain": [
              "0    16312\n",
              "1     4688\n",
              "Name: default.payment.next.month, dtype: int64"
            ]
          },
          "execution_count": 15,
          "metadata": {},
          "output_type": "execute_result"
        }
      ],
      "source": [
        "train_df[\"default.payment.next.month\"].value_counts()"
      ]
    },
    {
      "cell_type": "markdown",
      "metadata": {
        "tags": [],
        "id": "YW2xySbhTlfN"
      },
      "source": [
        "Pick appropriate metric/metrics for assessment:\n",
        "\n",
        "An appropriate metric that we will use for cross-validation and assessment is accuracy. We will also calculate the final precision, recall, and F1 score after predicting on unseen data using our model. We will use accuracy because it calculates the ratio of correctly classified examples to the total number of examples in the dataset. We will use precision because it calculates the ratio of true positive predictions to the total number of positive predictions and therefore it measures the model's ability to correctly identify positive instances. We will use recall because it calculates the ratio of true positive predictions to the total number of actual positive examples and therefore, it measures the model's ability to find all positive instances. We will also find the F1 score, the harmonic mean of precision and recall because it provides a balanced measure of the model's performance, taking into account both precision and recall."
      ]
    },
    {
      "cell_type": "markdown",
      "metadata": {
        "id": "LaTT-JCrTlfO"
      },
      "source": [
        "<!-- END QUESTION -->\n",
        "\n",
        "<br><br>"
      ]
    },
    {
      "cell_type": "markdown",
      "metadata": {
        "id": "a4zLFigrTlfO"
      },
      "source": [
        "## 4. Feature engineering"
      ]
    },
    {
      "cell_type": "code",
      "execution_count": null,
      "metadata": {
        "id": "ajsjsAMBTlfO"
      },
      "outputs": [],
      "source": [
        "# Added 2 new columns that have the mean bill amount and mean payment amount for 6 months. This may help with making predictions\n",
        "# using these features for an overall view of bill amound and payment amount over the 6 months.\n",
        "\n",
        "train_df['AVG_BILL_AMT'] = train_df[['BILL_AMT1', 'BILL_AMT2', 'BILL_AMT3', 'BILL_AMT4', 'BILL_AMT5', 'BILL_AMT6']].mean(axis=1)\n",
        "train_df['AVG_PAY_AMT'] = train_df[['PAY_AMT1', 'PAY_AMT2', 'PAY_AMT3', 'PAY_AMT4', 'PAY_AMT5', 'PAY_AMT6']].mean(axis=1)\n",
        "\n",
        "test_df['AVG_BILL_AMT'] = test_df[['BILL_AMT1', 'BILL_AMT2', 'BILL_AMT3', 'BILL_AMT4', 'BILL_AMT5', 'BILL_AMT6']].mean(axis=1)\n",
        "test_df['AVG_PAY_AMT'] = test_df[['PAY_AMT1', 'PAY_AMT2', 'PAY_AMT3', 'PAY_AMT4', 'PAY_AMT5', 'PAY_AMT6']].mean(axis=1)\n"
      ]
    },
    {
      "cell_type": "code",
      "execution_count": null,
      "metadata": {
        "id": "aSMS9wUkTlfO",
        "outputId": "4dc406d4-9869-4427-c120-8205896cccfe"
      },
      "outputs": [
        {
          "data": {
            "text/plain": [
              "Index(['ID', 'LIMIT_BAL', 'SEX', 'EDUCATION', 'MARRIAGE', 'AGE', 'PAY_0',\n",
              "       'PAY_2', 'PAY_3', 'PAY_4', 'PAY_5', 'PAY_6', 'BILL_AMT1', 'BILL_AMT2',\n",
              "       'BILL_AMT3', 'BILL_AMT4', 'BILL_AMT5', 'BILL_AMT6', 'PAY_AMT1',\n",
              "       'PAY_AMT2', 'PAY_AMT3', 'PAY_AMT4', 'PAY_AMT5', 'PAY_AMT6',\n",
              "       'default.payment.next.month', 'AVG_BILL_AMT', 'AVG_PAY_AMT'],\n",
              "      dtype='object')"
            ]
          },
          "execution_count": 17,
          "metadata": {},
          "output_type": "execute_result"
        }
      ],
      "source": [
        "train_df.columns"
      ]
    },
    {
      "cell_type": "code",
      "execution_count": null,
      "metadata": {
        "id": "tmX2jPXnTlfP",
        "outputId": "f1ee404c-8b4a-4433-ba9c-1f851bbf6f56"
      },
      "outputs": [
        {
          "data": {
            "text/html": [
              "<div>\n",
              "<style scoped>\n",
              "    .dataframe tbody tr th:only-of-type {\n",
              "        vertical-align: middle;\n",
              "    }\n",
              "\n",
              "    .dataframe tbody tr th {\n",
              "        vertical-align: top;\n",
              "    }\n",
              "\n",
              "    .dataframe thead th {\n",
              "        text-align: right;\n",
              "    }\n",
              "</style>\n",
              "<table border=\"1\" class=\"dataframe\">\n",
              "  <thead>\n",
              "    <tr style=\"text-align: right;\">\n",
              "      <th></th>\n",
              "      <th>ID</th>\n",
              "      <th>LIMIT_BAL</th>\n",
              "      <th>SEX</th>\n",
              "      <th>EDUCATION</th>\n",
              "      <th>MARRIAGE</th>\n",
              "      <th>AGE</th>\n",
              "      <th>PAY_0</th>\n",
              "      <th>PAY_2</th>\n",
              "      <th>PAY_3</th>\n",
              "      <th>PAY_4</th>\n",
              "      <th>...</th>\n",
              "      <th>BILL_AMT6</th>\n",
              "      <th>PAY_AMT1</th>\n",
              "      <th>PAY_AMT2</th>\n",
              "      <th>PAY_AMT3</th>\n",
              "      <th>PAY_AMT4</th>\n",
              "      <th>PAY_AMT5</th>\n",
              "      <th>PAY_AMT6</th>\n",
              "      <th>default.payment.next.month</th>\n",
              "      <th>AVG_BILL_AMT</th>\n",
              "      <th>AVG_PAY_AMT</th>\n",
              "    </tr>\n",
              "  </thead>\n",
              "  <tbody>\n",
              "    <tr>\n",
              "      <th>16395</th>\n",
              "      <td>16396</td>\n",
              "      <td>320000.0</td>\n",
              "      <td>2</td>\n",
              "      <td>1</td>\n",
              "      <td>2</td>\n",
              "      <td>36</td>\n",
              "      <td>0</td>\n",
              "      <td>0</td>\n",
              "      <td>0</td>\n",
              "      <td>0</td>\n",
              "      <td>...</td>\n",
              "      <td>3788.0</td>\n",
              "      <td>5000.0</td>\n",
              "      <td>5018.0</td>\n",
              "      <td>1000.0</td>\n",
              "      <td>3000.0</td>\n",
              "      <td>0.0</td>\n",
              "      <td>7013.0</td>\n",
              "      <td>0</td>\n",
              "      <td>19868.833333</td>\n",
              "      <td>3505.166667</td>\n",
              "    </tr>\n",
              "    <tr>\n",
              "      <th>21448</th>\n",
              "      <td>21449</td>\n",
              "      <td>440000.0</td>\n",
              "      <td>2</td>\n",
              "      <td>1</td>\n",
              "      <td>2</td>\n",
              "      <td>30</td>\n",
              "      <td>-1</td>\n",
              "      <td>-1</td>\n",
              "      <td>-1</td>\n",
              "      <td>0</td>\n",
              "      <td>...</td>\n",
              "      <td>117870.0</td>\n",
              "      <td>612.0</td>\n",
              "      <td>87426.0</td>\n",
              "      <td>130007.0</td>\n",
              "      <td>3018.0</td>\n",
              "      <td>15000.0</td>\n",
              "      <td>51663.0</td>\n",
              "      <td>0</td>\n",
              "      <td>88137.666667</td>\n",
              "      <td>47954.333333</td>\n",
              "    </tr>\n",
              "    <tr>\n",
              "      <th>20034</th>\n",
              "      <td>20035</td>\n",
              "      <td>160000.0</td>\n",
              "      <td>2</td>\n",
              "      <td>3</td>\n",
              "      <td>1</td>\n",
              "      <td>44</td>\n",
              "      <td>0</td>\n",
              "      <td>0</td>\n",
              "      <td>0</td>\n",
              "      <td>0</td>\n",
              "      <td>...</td>\n",
              "      <td>-18.0</td>\n",
              "      <td>0.0</td>\n",
              "      <td>0.0</td>\n",
              "      <td>0.0</td>\n",
              "      <td>0.0</td>\n",
              "      <td>0.0</td>\n",
              "      <td>0.0</td>\n",
              "      <td>0</td>\n",
              "      <td>-18.000000</td>\n",
              "      <td>0.000000</td>\n",
              "    </tr>\n",
              "    <tr>\n",
              "      <th>25755</th>\n",
              "      <td>25756</td>\n",
              "      <td>120000.0</td>\n",
              "      <td>2</td>\n",
              "      <td>2</td>\n",
              "      <td>1</td>\n",
              "      <td>30</td>\n",
              "      <td>0</td>\n",
              "      <td>0</td>\n",
              "      <td>0</td>\n",
              "      <td>0</td>\n",
              "      <td>...</td>\n",
              "      <td>47379.0</td>\n",
              "      <td>3706.0</td>\n",
              "      <td>5502.0</td>\n",
              "      <td>4204.0</td>\n",
              "      <td>3017.0</td>\n",
              "      <td>2005.0</td>\n",
              "      <td>1702.0</td>\n",
              "      <td>0</td>\n",
              "      <td>88447.000000</td>\n",
              "      <td>3356.000000</td>\n",
              "    </tr>\n",
              "    <tr>\n",
              "      <th>1438</th>\n",
              "      <td>1439</td>\n",
              "      <td>50000.0</td>\n",
              "      <td>1</td>\n",
              "      <td>2</td>\n",
              "      <td>2</td>\n",
              "      <td>54</td>\n",
              "      <td>1</td>\n",
              "      <td>2</td>\n",
              "      <td>0</td>\n",
              "      <td>0</td>\n",
              "      <td>...</td>\n",
              "      <td>27380.0</td>\n",
              "      <td>0.0</td>\n",
              "      <td>1400.0</td>\n",
              "      <td>1200.0</td>\n",
              "      <td>1500.0</td>\n",
              "      <td>1000.0</td>\n",
              "      <td>1500.0</td>\n",
              "      <td>0</td>\n",
              "      <td>34180.166667</td>\n",
              "      <td>1100.000000</td>\n",
              "    </tr>\n",
              "  </tbody>\n",
              "</table>\n",
              "<p>5 rows × 27 columns</p>\n",
              "</div>"
            ],
            "text/plain": [
              "          ID  LIMIT_BAL  SEX  EDUCATION  MARRIAGE  AGE  PAY_0  PAY_2  PAY_3  \\\n",
              "16395  16396   320000.0    2          1         2   36      0      0      0   \n",
              "21448  21449   440000.0    2          1         2   30     -1     -1     -1   \n",
              "20034  20035   160000.0    2          3         1   44      0      0      0   \n",
              "25755  25756   120000.0    2          2         1   30      0      0      0   \n",
              "1438    1439    50000.0    1          2         2   54      1      2      0   \n",
              "\n",
              "       PAY_4  ...  BILL_AMT6  PAY_AMT1  PAY_AMT2  PAY_AMT3  PAY_AMT4  \\\n",
              "16395      0  ...     3788.0    5000.0    5018.0    1000.0    3000.0   \n",
              "21448      0  ...   117870.0     612.0   87426.0  130007.0    3018.0   \n",
              "20034      0  ...      -18.0       0.0       0.0       0.0       0.0   \n",
              "25755      0  ...    47379.0    3706.0    5502.0    4204.0    3017.0   \n",
              "1438       0  ...    27380.0       0.0    1400.0    1200.0    1500.0   \n",
              "\n",
              "       PAY_AMT5  PAY_AMT6  default.payment.next.month  AVG_BILL_AMT  \\\n",
              "16395       0.0    7013.0                           0  19868.833333   \n",
              "21448   15000.0   51663.0                           0  88137.666667   \n",
              "20034       0.0       0.0                           0    -18.000000   \n",
              "25755    2005.0    1702.0                           0  88447.000000   \n",
              "1438     1000.0    1500.0                           0  34180.166667   \n",
              "\n",
              "        AVG_PAY_AMT  \n",
              "16395   3505.166667  \n",
              "21448  47954.333333  \n",
              "20034      0.000000  \n",
              "25755   3356.000000  \n",
              "1438    1100.000000  \n",
              "\n",
              "[5 rows x 27 columns]"
            ]
          },
          "execution_count": 18,
          "metadata": {},
          "output_type": "execute_result"
        }
      ],
      "source": [
        "train_df.head()"
      ]
    },
    {
      "cell_type": "markdown",
      "metadata": {
        "id": "pLxFfy8cTlfP"
      },
      "source": [
        "<!-- END QUESTION -->\n",
        "\n",
        "<br><br>"
      ]
    },
    {
      "cell_type": "markdown",
      "metadata": {
        "id": "E2q6vM8RTlfP"
      },
      "source": [
        "## 5. Preprocessing and transformations"
      ]
    },
    {
      "cell_type": "code",
      "execution_count": null,
      "metadata": {
        "tags": [],
        "id": "LHZgoQ7pTlfP",
        "outputId": "9d23c1cb-686c-45e9-e5a7-d9359217c9dd"
      },
      "outputs": [
        {
          "data": {
            "text/plain": [
              "Index(['ID', 'LIMIT_BAL', 'SEX', 'EDUCATION', 'MARRIAGE', 'AGE', 'PAY_0',\n",
              "       'PAY_2', 'PAY_3', 'PAY_4', 'PAY_5', 'PAY_6', 'BILL_AMT1', 'BILL_AMT2',\n",
              "       'BILL_AMT3', 'BILL_AMT4', 'BILL_AMT5', 'BILL_AMT6', 'PAY_AMT1',\n",
              "       'PAY_AMT2', 'PAY_AMT3', 'PAY_AMT4', 'PAY_AMT5', 'PAY_AMT6',\n",
              "       'default.payment.next.month', 'AVG_BILL_AMT', 'AVG_PAY_AMT'],\n",
              "      dtype='object')"
            ]
          },
          "execution_count": 19,
          "metadata": {},
          "output_type": "execute_result"
        }
      ],
      "source": [
        "# creating list of features\n",
        "numeric_features = [\"LIMIT_BAL\", \"AGE\", \"AVG_BILL_AMT\", \"AVG_PAY_AMT\", \"BILL_AMT1\", \"BILL_AMT2\", \"BILL_AMT3\", \"BILL_AMT4\",\n",
        "                    \"BILL_AMT5\", \"BILL_AMT6\", \"PAY_AMT1\", \"PAY_AMT2\", \"PAY_AMT3\", \"PAY_AMT4\",\n",
        "                    \"PAY_AMT5\", \"PAY_AMT6\"]\n",
        "train_df[\"SEX\"] = train_df[\"SEX\"].map({1: \"male\", 2: \"female\"})\n",
        "\n",
        "test_df[\"SEX\"] = test_df[\"SEX\"].map({1: \"male\", 2: \"female\"})\n",
        "\n",
        "binary_features = [\"SEX\"]\n",
        "\n",
        "ordinal_feature_ed = [\"EDUCATION\"]\n",
        "\n",
        "ordinal_features_pay0 = [\"PAY_0\"]\n",
        "ordinal_features_pay2 = [\"PAY_2\"]\n",
        "ordinal_features_pay3 = [\"PAY_3\"]\n",
        "ordinal_features_pay4 = [\"PAY_4\"]\n",
        "ordinal_features_pay5= [\"PAY_5\"]\n",
        "ordinal_features_pay6= [\"PAY_6\"]\n",
        "\n",
        "\n",
        "train_df[\"MARRIAGE\"] = train_df[\"MARRIAGE\"].map({1: \"married\", 2: \"single\", 3: \"others\"})\n",
        "\n",
        "test_df[\"MARRIAGE\"] = test_df[\"MARRIAGE\"].map({1: \"married\", 2: \"single\", 3: \"others\"})\n",
        "\n",
        "categorical_features = [\"MARRIAGE\"]\n",
        "\n",
        "# We can drop ID becuase that is not helpful for making predictions on unseen, new data\n",
        "drop_features = [\"ID\"]\n",
        "train_df.columns"
      ]
    },
    {
      "cell_type": "code",
      "execution_count": null,
      "metadata": {
        "id": "c-nAb38HTlfP",
        "outputId": "2b4df47a-8d34-415e-ebb4-8927e710a907"
      },
      "outputs": [
        {
          "name": "stdout",
          "output_type": "stream",
          "text": [
            "(9000, 26)\n"
          ]
        }
      ],
      "source": [
        "# Splitting data into X_train, y_train, X_test, and y_test\n",
        "X_train = train_df.drop(columns=[\"default.payment.next.month\"])\n",
        "y_train = train_df[\"default.payment.next.month\"]\n",
        "X_test = test_df.drop(columns = [\"default.payment.next.month\"])\n",
        "y_test = test_df[\"default.payment.next.month\"]\n",
        "\n",
        "print(X_test.shape)"
      ]
    },
    {
      "cell_type": "code",
      "execution_count": null,
      "metadata": {
        "id": "TaJvm42xTlfQ"
      },
      "outputs": [],
      "source": [
        "# Defining transformers\n",
        "# Numeric transformer:\n",
        "numeric_transformer = StandardScaler()"
      ]
    },
    {
      "cell_type": "code",
      "execution_count": null,
      "metadata": {
        "id": "WgYVDN1ZTlfQ"
      },
      "outputs": [],
      "source": [
        "# Ordinal transformers:\n",
        "education_levels = [\n",
        "    1,\n",
        "    2,\n",
        "    3,\n",
        "    4,\n",
        "    5,\n",
        "    6,\n",
        "]\n",
        "\n",
        "payment_levels = [\n",
        "    -1,\n",
        "    1,\n",
        "    2,\n",
        "    3,\n",
        "    4,\n",
        "    5,\n",
        "    6,\n",
        "    7,\n",
        "    8,\n",
        "    9,\n",
        "]\n",
        "\n",
        "\n",
        "ordinal_transformer_ed = make_pipeline(SimpleImputer(strategy=\"most_frequent\", missing_values=0),\n",
        "                                       OrdinalEncoder(categories=[education_levels])\n",
        ")\n",
        "\n",
        "ordinal_transformer_pay = make_pipeline(SimpleImputer(strategy=\"most_frequent\", missing_values=0),\n",
        "                                        OrdinalEncoder(categories=[payment_levels]),\n",
        ")"
      ]
    },
    {
      "cell_type": "code",
      "execution_count": null,
      "metadata": {
        "tags": [],
        "id": "puh-0VSfTlfQ"
      },
      "outputs": [],
      "source": [
        "# One-Hot Encoder for binary feature\n",
        "binary_transformer = OneHotEncoder(drop=\"if_binary\", dtype=int)"
      ]
    },
    {
      "cell_type": "code",
      "execution_count": null,
      "metadata": {
        "id": "fpIHP3V2TlfX"
      },
      "outputs": [],
      "source": [
        "# One-Hot Encoder for categorical feature\n",
        "\n",
        "categorical_transformer = make_pipeline(SimpleImputer(strategy=\"constant\", fill_value=\"missing\"),\n",
        "                                        OneHotEncoder(handle_unknown=\"ignore\", sparse=False),\n",
        ")"
      ]
    },
    {
      "cell_type": "code",
      "execution_count": null,
      "metadata": {
        "id": "Aw9W361tTlfX"
      },
      "outputs": [],
      "source": [
        "# Part 2: Column Transformer\n",
        "preprocessor = make_column_transformer(\n",
        "    (numeric_transformer, numeric_features),\n",
        "    (ordinal_transformer_ed, ordinal_feature_ed),\n",
        "    (binary_transformer, binary_features),\n",
        "    (categorical_transformer, categorical_features),\n",
        "    (ordinal_transformer_pay, ordinal_features_pay0),\n",
        "    (ordinal_transformer_pay, ordinal_features_pay2),\n",
        "    (ordinal_transformer_pay, ordinal_features_pay3),\n",
        "    (ordinal_transformer_pay, ordinal_features_pay4),\n",
        "    (ordinal_transformer_pay, ordinal_features_pay5),\n",
        "    (ordinal_transformer_pay, ordinal_features_pay6),\n",
        "    (\"drop\", drop_features),\n",
        ")\n",
        "\n",
        "\n",
        "# Created transformed dataframe after Baseline model"
      ]
    },
    {
      "cell_type": "markdown",
      "metadata": {
        "id": "q5jajdamTlfX"
      },
      "source": [
        "<!-- END QUESTION -->\n",
        "\n",
        "<br><br>"
      ]
    },
    {
      "cell_type": "markdown",
      "metadata": {
        "id": "_YewisD6TlfX"
      },
      "source": [
        "## 6. Baseline model\n",
        "1. I have tried `scikit-learn`'s baseline model and reported the results."
      ]
    },
    {
      "cell_type": "code",
      "execution_count": null,
      "metadata": {
        "tags": [],
        "id": "hicwwKRtTlfY"
      },
      "outputs": [],
      "source": [
        "dummy = DummyClassifier(strategy=\"most_frequent\")\n",
        "scores = cross_validate(dummy, X_train, y_train, return_train_score=True)\n",
        "dummy_df = pd.DataFrame(scores)"
      ]
    },
    {
      "cell_type": "code",
      "execution_count": null,
      "metadata": {
        "tags": [],
        "id": "5v5O7sC6TlfY",
        "outputId": "00c6f79a-55d0-4193-fd05-399013fa191d"
      },
      "outputs": [
        {
          "data": {
            "text/html": [
              "<div>\n",
              "<style scoped>\n",
              "    .dataframe tbody tr th:only-of-type {\n",
              "        vertical-align: middle;\n",
              "    }\n",
              "\n",
              "    .dataframe tbody tr th {\n",
              "        vertical-align: top;\n",
              "    }\n",
              "\n",
              "    .dataframe thead th {\n",
              "        text-align: right;\n",
              "    }\n",
              "</style>\n",
              "<table border=\"1\" class=\"dataframe\">\n",
              "  <thead>\n",
              "    <tr style=\"text-align: right;\">\n",
              "      <th></th>\n",
              "      <th>fit_time</th>\n",
              "      <th>score_time</th>\n",
              "      <th>test_score</th>\n",
              "      <th>train_score</th>\n",
              "    </tr>\n",
              "  </thead>\n",
              "  <tbody>\n",
              "    <tr>\n",
              "      <th>0</th>\n",
              "      <td>0.007001</td>\n",
              "      <td>0.001000</td>\n",
              "      <td>0.776905</td>\n",
              "      <td>0.776726</td>\n",
              "    </tr>\n",
              "    <tr>\n",
              "      <th>1</th>\n",
              "      <td>0.003998</td>\n",
              "      <td>0.000000</td>\n",
              "      <td>0.776905</td>\n",
              "      <td>0.776726</td>\n",
              "    </tr>\n",
              "    <tr>\n",
              "      <th>2</th>\n",
              "      <td>0.003013</td>\n",
              "      <td>0.001002</td>\n",
              "      <td>0.776667</td>\n",
              "      <td>0.776786</td>\n",
              "    </tr>\n",
              "    <tr>\n",
              "      <th>3</th>\n",
              "      <td>0.003989</td>\n",
              "      <td>0.000000</td>\n",
              "      <td>0.776667</td>\n",
              "      <td>0.776786</td>\n",
              "    </tr>\n",
              "    <tr>\n",
              "      <th>4</th>\n",
              "      <td>0.004318</td>\n",
              "      <td>0.000000</td>\n",
              "      <td>0.776667</td>\n",
              "      <td>0.776786</td>\n",
              "    </tr>\n",
              "  </tbody>\n",
              "</table>\n",
              "</div>"
            ],
            "text/plain": [
              "   fit_time  score_time  test_score  train_score\n",
              "0  0.007001    0.001000    0.776905     0.776726\n",
              "1  0.003998    0.000000    0.776905     0.776726\n",
              "2  0.003013    0.001002    0.776667     0.776786\n",
              "3  0.003989    0.000000    0.776667     0.776786\n",
              "4  0.004318    0.000000    0.776667     0.776786"
            ]
          },
          "execution_count": 27,
          "metadata": {},
          "output_type": "execute_result"
        }
      ],
      "source": [
        "dummy_df"
      ]
    },
    {
      "cell_type": "markdown",
      "metadata": {
        "id": "JN-8jXa4TlfY"
      },
      "source": [
        "<!-- END QUESTION -->\n",
        "\n"
      ]
    },
    {
      "cell_type": "code",
      "execution_count": null,
      "metadata": {
        "id": "wWk3Mrw8TlfY",
        "outputId": "c4cc43c2-3d10-4c96-b7d4-91e0fe5f126a"
      },
      "outputs": [
        {
          "data": {
            "text/plain": [
              "array([0.77690476, 0.77690476, 0.77666667, 0.77666667, 0.77666667])"
            ]
          },
          "execution_count": 28,
          "metadata": {},
          "output_type": "execute_result"
        }
      ],
      "source": [
        "cross_val_score(dummy, X_train, y_train)"
      ]
    },
    {
      "cell_type": "markdown",
      "metadata": {
        "id": "grJL4mbdTlfY"
      },
      "source": [
        "<br><br>"
      ]
    },
    {
      "cell_type": "markdown",
      "metadata": {
        "id": "6Dj9SUQDTlfZ"
      },
      "source": [
        "## 7. Linear models & Hyperparameter Optimization"
      ]
    },
    {
      "cell_type": "code",
      "execution_count": null,
      "metadata": {
        "id": "Y4paJI7nTlfZ",
        "outputId": "ae153fe7-369a-43f0-ab31-138278c8319b"
      },
      "outputs": [
        {
          "data": {
            "text/plain": [
              "Index(['ID', 'LIMIT_BAL', 'SEX', 'EDUCATION', 'MARRIAGE', 'AGE', 'PAY_0',\n",
              "       'PAY_2', 'PAY_3', 'PAY_4', 'PAY_5', 'PAY_6', 'BILL_AMT1', 'BILL_AMT2',\n",
              "       'BILL_AMT3', 'BILL_AMT4', 'BILL_AMT5', 'BILL_AMT6', 'PAY_AMT1',\n",
              "       'PAY_AMT2', 'PAY_AMT3', 'PAY_AMT4', 'PAY_AMT5', 'PAY_AMT6',\n",
              "       'AVG_BILL_AMT', 'AVG_PAY_AMT'],\n",
              "      dtype='object')"
            ]
          },
          "execution_count": 29,
          "metadata": {},
          "output_type": "execute_result"
        }
      ],
      "source": [
        "all_columns = X_train.columns\n",
        "all_columns"
      ]
    },
    {
      "cell_type": "code",
      "execution_count": null,
      "metadata": {
        "tags": [],
        "id": "VQgzFihYTlfZ",
        "outputId": "6acfb391-6d18-4ca7-f351-8410c7657976"
      },
      "outputs": [
        {
          "data": {
            "text/html": [
              "<div>\n",
              "<style scoped>\n",
              "    .dataframe tbody tr th:only-of-type {\n",
              "        vertical-align: middle;\n",
              "    }\n",
              "\n",
              "    .dataframe tbody tr th {\n",
              "        vertical-align: top;\n",
              "    }\n",
              "\n",
              "    .dataframe thead th {\n",
              "        text-align: right;\n",
              "    }\n",
              "</style>\n",
              "<table border=\"1\" class=\"dataframe\">\n",
              "  <thead>\n",
              "    <tr style=\"text-align: right;\">\n",
              "      <th></th>\n",
              "      <th>0</th>\n",
              "      <th>1</th>\n",
              "      <th>2</th>\n",
              "      <th>3</th>\n",
              "      <th>4</th>\n",
              "      <th>5</th>\n",
              "      <th>6</th>\n",
              "      <th>7</th>\n",
              "      <th>8</th>\n",
              "      <th>9</th>\n",
              "      <th>...</th>\n",
              "      <th>18</th>\n",
              "      <th>19</th>\n",
              "      <th>20</th>\n",
              "      <th>21</th>\n",
              "      <th>22</th>\n",
              "      <th>23</th>\n",
              "      <th>24</th>\n",
              "      <th>25</th>\n",
              "      <th>26</th>\n",
              "      <th>27</th>\n",
              "    </tr>\n",
              "  </thead>\n",
              "  <tbody>\n",
              "    <tr>\n",
              "      <th>0</th>\n",
              "      <td>1.168355</td>\n",
              "      <td>0.054187</td>\n",
              "      <td>-0.395799</td>\n",
              "      <td>-0.173458</td>\n",
              "      <td>-0.300665</td>\n",
              "      <td>-0.293394</td>\n",
              "      <td>-0.265310</td>\n",
              "      <td>-0.371930</td>\n",
              "      <td>-0.494781</td>\n",
              "      <td>-0.587035</td>\n",
              "      <td>...</td>\n",
              "      <td>0.0</td>\n",
              "      <td>0.0</td>\n",
              "      <td>0.0</td>\n",
              "      <td>1.0</td>\n",
              "      <td>0.0</td>\n",
              "      <td>0.0</td>\n",
              "      <td>0.0</td>\n",
              "      <td>0.0</td>\n",
              "      <td>0.0</td>\n",
              "      <td>0.0</td>\n",
              "    </tr>\n",
              "    <tr>\n",
              "      <th>1</th>\n",
              "      <td>2.090017</td>\n",
              "      <td>-0.597108</td>\n",
              "      <td>0.679910</td>\n",
              "      <td>4.185515</td>\n",
              "      <td>-0.685307</td>\n",
              "      <td>-0.679495</td>\n",
              "      <td>0.585444</td>\n",
              "      <td>1.970295</td>\n",
              "      <td>1.805461</td>\n",
              "      <td>1.327534</td>\n",
              "      <td>...</td>\n",
              "      <td>0.0</td>\n",
              "      <td>0.0</td>\n",
              "      <td>0.0</td>\n",
              "      <td>1.0</td>\n",
              "      <td>0.0</td>\n",
              "      <td>0.0</td>\n",
              "      <td>0.0</td>\n",
              "      <td>0.0</td>\n",
              "      <td>0.0</td>\n",
              "      <td>0.0</td>\n",
              "    </tr>\n",
              "    <tr>\n",
              "      <th>2</th>\n",
              "      <td>-0.060527</td>\n",
              "      <td>0.922579</td>\n",
              "      <td>-0.709155</td>\n",
              "      <td>-0.517197</td>\n",
              "      <td>-0.696132</td>\n",
              "      <td>-0.688319</td>\n",
              "      <td>-0.681234</td>\n",
              "      <td>-0.670935</td>\n",
              "      <td>-0.661045</td>\n",
              "      <td>-0.650908</td>\n",
              "      <td>...</td>\n",
              "      <td>1.0</td>\n",
              "      <td>0.0</td>\n",
              "      <td>0.0</td>\n",
              "      <td>0.0</td>\n",
              "      <td>0.0</td>\n",
              "      <td>0.0</td>\n",
              "      <td>0.0</td>\n",
              "      <td>0.0</td>\n",
              "      <td>0.0</td>\n",
              "      <td>0.0</td>\n",
              "    </tr>\n",
              "    <tr>\n",
              "      <th>3</th>\n",
              "      <td>-0.367748</td>\n",
              "      <td>-0.597108</td>\n",
              "      <td>0.684784</td>\n",
              "      <td>-0.188086</td>\n",
              "      <td>0.687456</td>\n",
              "      <td>0.752583</td>\n",
              "      <td>0.835581</td>\n",
              "      <td>0.918719</td>\n",
              "      <td>0.501203</td>\n",
              "      <td>0.144527</td>\n",
              "      <td>...</td>\n",
              "      <td>1.0</td>\n",
              "      <td>0.0</td>\n",
              "      <td>0.0</td>\n",
              "      <td>0.0</td>\n",
              "      <td>0.0</td>\n",
              "      <td>0.0</td>\n",
              "      <td>0.0</td>\n",
              "      <td>0.0</td>\n",
              "      <td>0.0</td>\n",
              "      <td>0.0</td>\n",
              "    </tr>\n",
              "    <tr>\n",
              "      <th>4</th>\n",
              "      <td>-0.905384</td>\n",
              "      <td>2.008070</td>\n",
              "      <td>-0.170296</td>\n",
              "      <td>-0.409324</td>\n",
              "      <td>-0.040230</td>\n",
              "      <td>-0.031399</td>\n",
              "      <td>-0.287429</td>\n",
              "      <td>-0.245237</td>\n",
              "      <td>-0.204599</td>\n",
              "      <td>-0.191104</td>\n",
              "      <td>...</td>\n",
              "      <td>0.0</td>\n",
              "      <td>0.0</td>\n",
              "      <td>0.0</td>\n",
              "      <td>1.0</td>\n",
              "      <td>1.0</td>\n",
              "      <td>2.0</td>\n",
              "      <td>0.0</td>\n",
              "      <td>0.0</td>\n",
              "      <td>0.0</td>\n",
              "      <td>0.0</td>\n",
              "    </tr>\n",
              "    <tr>\n",
              "      <th>...</th>\n",
              "      <td>...</td>\n",
              "      <td>...</td>\n",
              "      <td>...</td>\n",
              "      <td>...</td>\n",
              "      <td>...</td>\n",
              "      <td>...</td>\n",
              "      <td>...</td>\n",
              "      <td>...</td>\n",
              "      <td>...</td>\n",
              "      <td>...</td>\n",
              "      <td>...</td>\n",
              "      <td>...</td>\n",
              "      <td>...</td>\n",
              "      <td>...</td>\n",
              "      <td>...</td>\n",
              "      <td>...</td>\n",
              "      <td>...</td>\n",
              "      <td>...</td>\n",
              "      <td>...</td>\n",
              "      <td>...</td>\n",
              "      <td>...</td>\n",
              "    </tr>\n",
              "    <tr>\n",
              "      <th>20995</th>\n",
              "      <td>1.629186</td>\n",
              "      <td>0.162736</td>\n",
              "      <td>-0.480740</td>\n",
              "      <td>-0.375884</td>\n",
              "      <td>-0.513226</td>\n",
              "      <td>-0.486648</td>\n",
              "      <td>-0.488648</td>\n",
              "      <td>-0.450259</td>\n",
              "      <td>-0.400085</td>\n",
              "      <td>-0.389539</td>\n",
              "      <td>...</td>\n",
              "      <td>1.0</td>\n",
              "      <td>0.0</td>\n",
              "      <td>0.0</td>\n",
              "      <td>0.0</td>\n",
              "      <td>0.0</td>\n",
              "      <td>0.0</td>\n",
              "      <td>0.0</td>\n",
              "      <td>0.0</td>\n",
              "      <td>0.0</td>\n",
              "      <td>2.0</td>\n",
              "    </tr>\n",
              "    <tr>\n",
              "      <th>20996</th>\n",
              "      <td>1.475576</td>\n",
              "      <td>2.008070</td>\n",
              "      <td>-0.677093</td>\n",
              "      <td>-0.361582</td>\n",
              "      <td>-0.695886</td>\n",
              "      <td>-0.688067</td>\n",
              "      <td>-0.680974</td>\n",
              "      <td>-0.630868</td>\n",
              "      <td>-0.618584</td>\n",
              "      <td>-0.534120</td>\n",
              "      <td>...</td>\n",
              "      <td>1.0</td>\n",
              "      <td>0.0</td>\n",
              "      <td>0.0</td>\n",
              "      <td>0.0</td>\n",
              "      <td>1.0</td>\n",
              "      <td>0.0</td>\n",
              "      <td>0.0</td>\n",
              "      <td>0.0</td>\n",
              "      <td>0.0</td>\n",
              "      <td>0.0</td>\n",
              "    </tr>\n",
              "    <tr>\n",
              "      <th>20997</th>\n",
              "      <td>-0.905384</td>\n",
              "      <td>-0.705657</td>\n",
              "      <td>-0.184677</td>\n",
              "      <td>-0.399714</td>\n",
              "      <td>-0.053288</td>\n",
              "      <td>-0.010446</td>\n",
              "      <td>-0.003381</td>\n",
              "      <td>-0.062716</td>\n",
              "      <td>-0.516534</td>\n",
              "      <td>-0.499414</td>\n",
              "      <td>...</td>\n",
              "      <td>1.0</td>\n",
              "      <td>0.0</td>\n",
              "      <td>0.0</td>\n",
              "      <td>0.0</td>\n",
              "      <td>0.0</td>\n",
              "      <td>0.0</td>\n",
              "      <td>0.0</td>\n",
              "      <td>0.0</td>\n",
              "      <td>0.0</td>\n",
              "      <td>0.0</td>\n",
              "    </tr>\n",
              "    <tr>\n",
              "      <th>20998</th>\n",
              "      <td>-1.058995</td>\n",
              "      <td>-1.574049</td>\n",
              "      <td>-0.280246</td>\n",
              "      <td>-0.384873</td>\n",
              "      <td>-0.309066</td>\n",
              "      <td>-0.288478</td>\n",
              "      <td>-0.254590</td>\n",
              "      <td>-0.195023</td>\n",
              "      <td>-0.179691</td>\n",
              "      <td>-0.372606</td>\n",
              "      <td>...</td>\n",
              "      <td>0.0</td>\n",
              "      <td>0.0</td>\n",
              "      <td>0.0</td>\n",
              "      <td>1.0</td>\n",
              "      <td>0.0</td>\n",
              "      <td>0.0</td>\n",
              "      <td>0.0</td>\n",
              "      <td>0.0</td>\n",
              "      <td>0.0</td>\n",
              "      <td>0.0</td>\n",
              "    </tr>\n",
              "    <tr>\n",
              "      <th>20999</th>\n",
              "      <td>1.552381</td>\n",
              "      <td>0.054187</td>\n",
              "      <td>-0.598946</td>\n",
              "      <td>0.486219</td>\n",
              "      <td>-0.657925</td>\n",
              "      <td>-0.326854</td>\n",
              "      <td>-0.637415</td>\n",
              "      <td>-0.605175</td>\n",
              "      <td>-0.599674</td>\n",
              "      <td>-0.612175</td>\n",
              "      <td>...</td>\n",
              "      <td>1.0</td>\n",
              "      <td>0.0</td>\n",
              "      <td>0.0</td>\n",
              "      <td>0.0</td>\n",
              "      <td>0.0</td>\n",
              "      <td>0.0</td>\n",
              "      <td>0.0</td>\n",
              "      <td>0.0</td>\n",
              "      <td>0.0</td>\n",
              "      <td>0.0</td>\n",
              "    </tr>\n",
              "  </tbody>\n",
              "</table>\n",
              "<p>21000 rows × 28 columns</p>\n",
              "</div>"
            ],
            "text/plain": [
              "             0         1         2         3         4         5         6   \\\n",
              "0      1.168355  0.054187 -0.395799 -0.173458 -0.300665 -0.293394 -0.265310   \n",
              "1      2.090017 -0.597108  0.679910  4.185515 -0.685307 -0.679495  0.585444   \n",
              "2     -0.060527  0.922579 -0.709155 -0.517197 -0.696132 -0.688319 -0.681234   \n",
              "3     -0.367748 -0.597108  0.684784 -0.188086  0.687456  0.752583  0.835581   \n",
              "4     -0.905384  2.008070 -0.170296 -0.409324 -0.040230 -0.031399 -0.287429   \n",
              "...         ...       ...       ...       ...       ...       ...       ...   \n",
              "20995  1.629186  0.162736 -0.480740 -0.375884 -0.513226 -0.486648 -0.488648   \n",
              "20996  1.475576  2.008070 -0.677093 -0.361582 -0.695886 -0.688067 -0.680974   \n",
              "20997 -0.905384 -0.705657 -0.184677 -0.399714 -0.053288 -0.010446 -0.003381   \n",
              "20998 -1.058995 -1.574049 -0.280246 -0.384873 -0.309066 -0.288478 -0.254590   \n",
              "20999  1.552381  0.054187 -0.598946  0.486219 -0.657925 -0.326854 -0.637415   \n",
              "\n",
              "             7         8         9   ...   18   19   20   21   22   23   24  \\\n",
              "0     -0.371930 -0.494781 -0.587035  ...  0.0  0.0  0.0  1.0  0.0  0.0  0.0   \n",
              "1      1.970295  1.805461  1.327534  ...  0.0  0.0  0.0  1.0  0.0  0.0  0.0   \n",
              "2     -0.670935 -0.661045 -0.650908  ...  1.0  0.0  0.0  0.0  0.0  0.0  0.0   \n",
              "3      0.918719  0.501203  0.144527  ...  1.0  0.0  0.0  0.0  0.0  0.0  0.0   \n",
              "4     -0.245237 -0.204599 -0.191104  ...  0.0  0.0  0.0  1.0  1.0  2.0  0.0   \n",
              "...         ...       ...       ...  ...  ...  ...  ...  ...  ...  ...  ...   \n",
              "20995 -0.450259 -0.400085 -0.389539  ...  1.0  0.0  0.0  0.0  0.0  0.0  0.0   \n",
              "20996 -0.630868 -0.618584 -0.534120  ...  1.0  0.0  0.0  0.0  1.0  0.0  0.0   \n",
              "20997 -0.062716 -0.516534 -0.499414  ...  1.0  0.0  0.0  0.0  0.0  0.0  0.0   \n",
              "20998 -0.195023 -0.179691 -0.372606  ...  0.0  0.0  0.0  1.0  0.0  0.0  0.0   \n",
              "20999 -0.605175 -0.599674 -0.612175  ...  1.0  0.0  0.0  0.0  0.0  0.0  0.0   \n",
              "\n",
              "        25   26   27  \n",
              "0      0.0  0.0  0.0  \n",
              "1      0.0  0.0  0.0  \n",
              "2      0.0  0.0  0.0  \n",
              "3      0.0  0.0  0.0  \n",
              "4      0.0  0.0  0.0  \n",
              "...    ...  ...  ...  \n",
              "20995  0.0  0.0  2.0  \n",
              "20996  0.0  0.0  0.0  \n",
              "20997  0.0  0.0  0.0  \n",
              "20998  0.0  0.0  0.0  \n",
              "20999  0.0  0.0  0.0  \n",
              "\n",
              "[21000 rows x 28 columns]"
            ]
          },
          "execution_count": 30,
          "metadata": {},
          "output_type": "execute_result"
        }
      ],
      "source": [
        "transformed_df = pd.DataFrame(preprocessor.fit_transform(X_train))\n",
        "n_new_cols = transformed_df.shape[1] - X_train.shape[1]\n",
        "transformed_df\n",
        "#X_train"
      ]
    },
    {
      "cell_type": "code",
      "execution_count": null,
      "metadata": {
        "id": "DxH6vUdxTlfZ"
      },
      "outputs": [],
      "source": [
        "results_dict = {}"
      ]
    },
    {
      "cell_type": "code",
      "execution_count": null,
      "metadata": {
        "id": "QRu3HyxoTlfa"
      },
      "outputs": [],
      "source": [
        "# Learned this function from CPSC 330\n",
        "def mean_std_cross_val_scores(model, X_train, y_train, **kwargs):\n",
        "    \"\"\"\n",
        "    Returns mean and std of cross validation\n",
        "\n",
        "    Parameters\n",
        "    ----------\n",
        "    model :\n",
        "        scikit-learn model\n",
        "    X_train : numpy array or pandas DataFrame\n",
        "        X in the training data\n",
        "    y_train :\n",
        "        y in the training data\n",
        "\n",
        "    Returns\n",
        "    ----------\n",
        "        pandas Series with mean scores from cross_validation\n",
        "    \"\"\"\n",
        "\n",
        "    scores = cross_validate(model, X_train, y_train, **kwargs)\n",
        "\n",
        "    mean_scores = pd.DataFrame(scores).mean()\n",
        "    std_scores = pd.DataFrame(scores).std()\n",
        "    out_col = []\n",
        "\n",
        "    for i in range(len(mean_scores)):\n",
        "        out_col.append((f\"%0.3f (+/- %0.3f)\" % (mean_scores[i], std_scores[i])))\n",
        "\n",
        "    return pd.Series(data=out_col, index=mean_scores.index)"
      ]
    },
    {
      "cell_type": "code",
      "execution_count": null,
      "metadata": {
        "tags": [],
        "id": "DUWWv55CTlfa"
      },
      "outputs": [],
      "source": [
        "scoring_metric = \"accuracy\"\n",
        "param_grid = {\"C\": np.logspace(-5, 5, 11)}\n",
        "for param in param_grid[\"C\"]:\n",
        "    model_name = \"Logistic Regression\"\n",
        "    pipe = make_pipeline(preprocessor, LogisticRegression(C=param, max_iter=1000))\n",
        "\n",
        "    key = model_name + \"(C= \" + str(param) + \")\"\n",
        "    results_dict[key] = mean_std_cross_val_scores(\n",
        "        pipe, X_train, y_train, cv=5, return_train_score=True, scoring = scoring_metric\n",
        "    )"
      ]
    },
    {
      "cell_type": "code",
      "execution_count": null,
      "metadata": {
        "tags": [],
        "id": "oBQe_YtDTlfb",
        "outputId": "bfb6b6b4-aa47-4a2b-ec48-b86f2366ecf8"
      },
      "outputs": [
        {
          "data": {
            "text/html": [
              "<div>\n",
              "<style scoped>\n",
              "    .dataframe tbody tr th:only-of-type {\n",
              "        vertical-align: middle;\n",
              "    }\n",
              "\n",
              "    .dataframe tbody tr th {\n",
              "        vertical-align: top;\n",
              "    }\n",
              "\n",
              "    .dataframe thead th {\n",
              "        text-align: right;\n",
              "    }\n",
              "</style>\n",
              "<table border=\"1\" class=\"dataframe\">\n",
              "  <thead>\n",
              "    <tr style=\"text-align: right;\">\n",
              "      <th></th>\n",
              "      <th>fit_time</th>\n",
              "      <th>score_time</th>\n",
              "      <th>test_score</th>\n",
              "      <th>train_score</th>\n",
              "    </tr>\n",
              "  </thead>\n",
              "  <tbody>\n",
              "    <tr>\n",
              "      <th>Logistic Regression(C= 1e-05)</th>\n",
              "      <td>0.063 (+/- 0.011)</td>\n",
              "      <td>0.016 (+/- 0.006)</td>\n",
              "      <td>0.777 (+/- 0.000)</td>\n",
              "      <td>0.777 (+/- 0.000)</td>\n",
              "    </tr>\n",
              "    <tr>\n",
              "      <th>Logistic Regression(C= 0.0001)</th>\n",
              "      <td>0.045 (+/- 0.006)</td>\n",
              "      <td>0.019 (+/- 0.007)</td>\n",
              "      <td>0.781 (+/- 0.001)</td>\n",
              "      <td>0.781 (+/- 0.000)</td>\n",
              "    </tr>\n",
              "    <tr>\n",
              "      <th>Logistic Regression(C= 0.001)</th>\n",
              "      <td>0.062 (+/- 0.010)</td>\n",
              "      <td>0.015 (+/- 0.004)</td>\n",
              "      <td>0.807 (+/- 0.003)</td>\n",
              "      <td>0.807 (+/- 0.001)</td>\n",
              "    </tr>\n",
              "    <tr>\n",
              "      <th>Logistic Regression(C= 0.01)</th>\n",
              "      <td>0.070 (+/- 0.009)</td>\n",
              "      <td>0.017 (+/- 0.002)</td>\n",
              "      <td>0.815 (+/- 0.003)</td>\n",
              "      <td>0.815 (+/- 0.001)</td>\n",
              "    </tr>\n",
              "    <tr>\n",
              "      <th>Logistic Regression(C= 0.1)</th>\n",
              "      <td>0.099 (+/- 0.007)</td>\n",
              "      <td>0.018 (+/- 0.004)</td>\n",
              "      <td>0.816 (+/- 0.003)</td>\n",
              "      <td>0.818 (+/- 0.001)</td>\n",
              "    </tr>\n",
              "    <tr>\n",
              "      <th>Logistic Regression(C= 1.0)</th>\n",
              "      <td>0.168 (+/- 0.022)</td>\n",
              "      <td>0.021 (+/- 0.007)</td>\n",
              "      <td>0.817 (+/- 0.003)</td>\n",
              "      <td>0.818 (+/- 0.002)</td>\n",
              "    </tr>\n",
              "    <tr>\n",
              "      <th>Logistic Regression(C= 10.0)</th>\n",
              "      <td>0.134 (+/- 0.016)</td>\n",
              "      <td>0.029 (+/- 0.013)</td>\n",
              "      <td>0.817 (+/- 0.003)</td>\n",
              "      <td>0.818 (+/- 0.002)</td>\n",
              "    </tr>\n",
              "    <tr>\n",
              "      <th>Logistic Regression(C= 100.0)</th>\n",
              "      <td>0.125 (+/- 0.017)</td>\n",
              "      <td>0.024 (+/- 0.001)</td>\n",
              "      <td>0.817 (+/- 0.003)</td>\n",
              "      <td>0.818 (+/- 0.002)</td>\n",
              "    </tr>\n",
              "    <tr>\n",
              "      <th>Logistic Regression(C= 1000.0)</th>\n",
              "      <td>0.125 (+/- 0.010)</td>\n",
              "      <td>0.024 (+/- 0.003)</td>\n",
              "      <td>0.817 (+/- 0.003)</td>\n",
              "      <td>0.818 (+/- 0.002)</td>\n",
              "    </tr>\n",
              "    <tr>\n",
              "      <th>Logistic Regression(C= 10000.0)</th>\n",
              "      <td>0.132 (+/- 0.011)</td>\n",
              "      <td>0.026 (+/- 0.004)</td>\n",
              "      <td>0.817 (+/- 0.003)</td>\n",
              "      <td>0.818 (+/- 0.002)</td>\n",
              "    </tr>\n",
              "    <tr>\n",
              "      <th>Logistic Regression(C= 100000.0)</th>\n",
              "      <td>0.171 (+/- 0.026)</td>\n",
              "      <td>0.028 (+/- 0.004)</td>\n",
              "      <td>0.817 (+/- 0.003)</td>\n",
              "      <td>0.818 (+/- 0.002)</td>\n",
              "    </tr>\n",
              "  </tbody>\n",
              "</table>\n",
              "</div>"
            ],
            "text/plain": [
              "                                           fit_time         score_time  \\\n",
              "Logistic Regression(C= 1e-05)     0.063 (+/- 0.011)  0.016 (+/- 0.006)   \n",
              "Logistic Regression(C= 0.0001)    0.045 (+/- 0.006)  0.019 (+/- 0.007)   \n",
              "Logistic Regression(C= 0.001)     0.062 (+/- 0.010)  0.015 (+/- 0.004)   \n",
              "Logistic Regression(C= 0.01)      0.070 (+/- 0.009)  0.017 (+/- 0.002)   \n",
              "Logistic Regression(C= 0.1)       0.099 (+/- 0.007)  0.018 (+/- 0.004)   \n",
              "Logistic Regression(C= 1.0)       0.168 (+/- 0.022)  0.021 (+/- 0.007)   \n",
              "Logistic Regression(C= 10.0)      0.134 (+/- 0.016)  0.029 (+/- 0.013)   \n",
              "Logistic Regression(C= 100.0)     0.125 (+/- 0.017)  0.024 (+/- 0.001)   \n",
              "Logistic Regression(C= 1000.0)    0.125 (+/- 0.010)  0.024 (+/- 0.003)   \n",
              "Logistic Regression(C= 10000.0)   0.132 (+/- 0.011)  0.026 (+/- 0.004)   \n",
              "Logistic Regression(C= 100000.0)  0.171 (+/- 0.026)  0.028 (+/- 0.004)   \n",
              "\n",
              "                                         test_score        train_score  \n",
              "Logistic Regression(C= 1e-05)     0.777 (+/- 0.000)  0.777 (+/- 0.000)  \n",
              "Logistic Regression(C= 0.0001)    0.781 (+/- 0.001)  0.781 (+/- 0.000)  \n",
              "Logistic Regression(C= 0.001)     0.807 (+/- 0.003)  0.807 (+/- 0.001)  \n",
              "Logistic Regression(C= 0.01)      0.815 (+/- 0.003)  0.815 (+/- 0.001)  \n",
              "Logistic Regression(C= 0.1)       0.816 (+/- 0.003)  0.818 (+/- 0.001)  \n",
              "Logistic Regression(C= 1.0)       0.817 (+/- 0.003)  0.818 (+/- 0.002)  \n",
              "Logistic Regression(C= 10.0)      0.817 (+/- 0.003)  0.818 (+/- 0.002)  \n",
              "Logistic Regression(C= 100.0)     0.817 (+/- 0.003)  0.818 (+/- 0.002)  \n",
              "Logistic Regression(C= 1000.0)    0.817 (+/- 0.003)  0.818 (+/- 0.002)  \n",
              "Logistic Regression(C= 10000.0)   0.817 (+/- 0.003)  0.818 (+/- 0.002)  \n",
              "Logistic Regression(C= 100000.0)  0.817 (+/- 0.003)  0.818 (+/- 0.002)  "
            ]
          },
          "execution_count": 34,
          "metadata": {},
          "output_type": "execute_result"
        }
      ],
      "source": [
        "results_df = pd.DataFrame(results_dict).T\n",
        "results_df"
      ]
    },
    {
      "cell_type": "markdown",
      "metadata": {
        "tags": [],
        "id": "Omg41A2VTlfb"
      },
      "source": [
        "Part 4: Summarize your results\n",
        "\n",
        "From the cross-validation scores along with standard deviation we can see that the best C value would be C = 1.0 since that is where the test score is highest while among all other C values and where the complexity of the model has not compromised efficiency. We can also notice that our test_score (cv_score) is relatively close to our train score indicating less chances of overfitting. The test_score from Logistic Regression is also higher than our baseline model, DummyClassifier.\n"
      ]
    },
    {
      "cell_type": "markdown",
      "metadata": {
        "id": "UXw_kmYZTlfb"
      },
      "source": [
        "<!-- END QUESTION -->\n",
        "\n",
        "<br><br>"
      ]
    },
    {
      "cell_type": "markdown",
      "metadata": {
        "id": "0E9BqibDTlfc"
      },
      "source": [
        "## 8. Different models"
      ]
    },
    {
      "cell_type": "code",
      "execution_count": null,
      "metadata": {
        "tags": [],
        "id": "QEuj7KhZTlfc",
        "outputId": "72fc0eec-a3b5-4d0a-91b8-fa477121d935"
      },
      "outputs": [
        {
          "data": {
            "text/html": [
              "<div>\n",
              "<style scoped>\n",
              "    .dataframe tbody tr th:only-of-type {\n",
              "        vertical-align: middle;\n",
              "    }\n",
              "\n",
              "    .dataframe tbody tr th {\n",
              "        vertical-align: top;\n",
              "    }\n",
              "\n",
              "    .dataframe thead th {\n",
              "        text-align: right;\n",
              "    }\n",
              "</style>\n",
              "<table border=\"1\" class=\"dataframe\">\n",
              "  <thead>\n",
              "    <tr style=\"text-align: right;\">\n",
              "      <th></th>\n",
              "      <th>fit_time</th>\n",
              "      <th>score_time</th>\n",
              "      <th>test_score</th>\n",
              "      <th>train_score</th>\n",
              "    </tr>\n",
              "  </thead>\n",
              "  <tbody>\n",
              "    <tr>\n",
              "      <th>Decision Tree Classifier</th>\n",
              "      <td>0.550 (+/- 0.046)</td>\n",
              "      <td>0.035 (+/- 0.014)</td>\n",
              "      <td>0.725 (+/- 0.009)</td>\n",
              "      <td>0.999 (+/- 0.000)</td>\n",
              "    </tr>\n",
              "    <tr>\n",
              "      <th>Random Forest Classifier</th>\n",
              "      <td>5.190 (+/- 0.692)</td>\n",
              "      <td>0.148 (+/- 0.042)</td>\n",
              "      <td>0.814 (+/- 0.005)</td>\n",
              "      <td>0.999 (+/- 0.000)</td>\n",
              "    </tr>\n",
              "    <tr>\n",
              "      <th>SVM RBF</th>\n",
              "      <td>13.447 (+/- 0.297)</td>\n",
              "      <td>4.049 (+/- 0.106)</td>\n",
              "      <td>0.818 (+/- 0.005)</td>\n",
              "      <td>0.825 (+/- 0.001)</td>\n",
              "    </tr>\n",
              "    <tr>\n",
              "      <th>Logistic Regression</th>\n",
              "      <td>0.167 (+/- 0.026)</td>\n",
              "      <td>0.029 (+/- 0.013)</td>\n",
              "      <td>0.817 (+/- 0.003)</td>\n",
              "      <td>0.818 (+/- 0.002)</td>\n",
              "    </tr>\n",
              "  </tbody>\n",
              "</table>\n",
              "</div>"
            ],
            "text/plain": [
              "                                    fit_time         score_time  \\\n",
              "Decision Tree Classifier   0.550 (+/- 0.046)  0.035 (+/- 0.014)   \n",
              "Random Forest Classifier   5.190 (+/- 0.692)  0.148 (+/- 0.042)   \n",
              "SVM RBF                   13.447 (+/- 0.297)  4.049 (+/- 0.106)   \n",
              "Logistic Regression        0.167 (+/- 0.026)  0.029 (+/- 0.013)   \n",
              "\n",
              "                                 test_score        train_score  \n",
              "Decision Tree Classifier  0.725 (+/- 0.009)  0.999 (+/- 0.000)  \n",
              "Random Forest Classifier  0.814 (+/- 0.005)  0.999 (+/- 0.000)  \n",
              "SVM RBF                   0.818 (+/- 0.005)  0.825 (+/- 0.001)  \n",
              "Logistic Regression       0.817 (+/- 0.003)  0.818 (+/- 0.002)  "
            ]
          },
          "execution_count": 35,
          "metadata": {},
          "output_type": "execute_result"
        }
      ],
      "source": [
        "scoring_metric = \"accuracy\"\n",
        "\n",
        "pipe_dt = make_pipeline(preprocessor, DecisionTreeClassifier(random_state=123))\n",
        "pipe_rf = make_pipeline(preprocessor, RandomForestClassifier(random_state=123))\n",
        "\n",
        "pipe_svm = make_pipeline(preprocessor, SVC(kernel='rbf', random_state=123))\n",
        "pipe_lr = make_pipeline(preprocessor, LogisticRegression(C=1.0, random_state = 123, max_iter=1000)) # included the C value\n",
        "                                                                                        # from hyperparameter optimization\n",
        "\n",
        "classifiers = {\n",
        "    \"Decision Tree Classifier\": pipe_dt,\n",
        "    \"Random Forest Classifier\": pipe_rf,\n",
        "    \"SVM RBF\": pipe_svm,\n",
        "    \"Logistic Regression\": pipe_lr,\n",
        "}\n",
        "\n",
        "results = {}\n",
        "\n",
        "for (name, model) in classifiers.items():\n",
        "    results[name] = mean_std_cross_val_scores(\n",
        "        model, X_train, y_train, return_train_score=True, scoring=scoring_metric\n",
        "    )\n",
        "\n",
        "results_4_models = pd.DataFrame(results).T\n",
        "results_4_models\n",
        "\n"
      ]
    },
    {
      "cell_type": "markdown",
      "metadata": {
        "id": "EY-M63fCTlfc"
      },
      "source": [
        "Part 2:\n",
        "\n",
        "There is overfitting in the Decision Tree Classifier and the Random Forest Classifier. We can see this in the large gap between the train_score and the test_score. The SVM RBF is a better model where the test score is better than the dummy classifier and the gap between the test_score and the train score is small. The fit time and score time of the Decision Tree Classifier is the smallest, the second smallest is the Random Forest Classifier and the model with the highest fit time and score time is SVM RBF. The SVM RBF test score is similar to the Logistic Regression test scores. With hyperparameter optimization on these non-linear models we may be able to beat the linear model."
      ]
    },
    {
      "cell_type": "markdown",
      "metadata": {
        "id": "VbejNJerTlfd"
      },
      "source": [
        "<!-- END QUESTION -->\n",
        "\n",
        "<br><br>"
      ]
    },
    {
      "cell_type": "markdown",
      "metadata": {
        "id": "Vv4aYCdFTlfd"
      },
      "source": [
        "## 9. Feature selection"
      ]
    },
    {
      "cell_type": "code",
      "execution_count": null,
      "metadata": {
        "tags": [],
        "id": "6mArNllpTlfd"
      },
      "outputs": [],
      "source": [
        "# Completed the code but the runtime was too long so we have commented this code.\n",
        "\n",
        "# scoring_metric = \"accuracy\"\n",
        "\n",
        "# from sklearn.feature_selection import RFECV\n",
        "# from sklearn.feature_selection import SelectKBest, f_classif\n",
        "\n",
        "\n",
        "# pipe_dt = make_pipeline(preprocessor, RFECV(DecisionTreeClassifier(random_state=123)), DecisionTreeClassifier(random_state=123))\n",
        "# pipe_rf = make_pipeline(preprocessor, RFECV(RandomForestClassifier(random_state=123)), RandomForestClassifier(random_state=123))\n",
        "# pipe_svm = make_pipeline(preprocessor, SelectKBest(f_classif), SVC(kernel='rbf', random_state=123))\n",
        "# pipe_lr = make_pipeline(preprocessor, SelectKBest(f_classif), LogisticRegression(C=1.0, random_state=123))\n",
        "\n",
        "# classifiers = {\n",
        "#     \"Decision Tree Classifier\": pipe_dt,\n",
        "#     \"Random Forest Classifier\": pipe_rf,\n",
        "#     \"SVM RBF\": pipe_svm,\n",
        "#     \"Logistic Regression\": pipe_lr,\n",
        "# }\n",
        "\n",
        "# results = {}\n",
        "\n",
        "# for (name, model) in classifiers.items():\n",
        "#     results[name] = mean_std_cross_val_scores(\n",
        "#         model, X_train, y_train, return_train_score=True, scoring=scoring_metric\n",
        "#     )\n",
        "\n",
        "# results_4_models = pd.DataFrame(results).T\n",
        "# results_4_models\n"
      ]
    },
    {
      "cell_type": "markdown",
      "metadata": {
        "id": "t4Tlr5fkTlfe"
      },
      "source": [
        "<!-- END QUESTION -->\n",
        "\n",
        "<br><br>"
      ]
    },
    {
      "cell_type": "markdown",
      "metadata": {
        "id": "v3MfiDBXTlfe"
      },
      "source": [
        "## 10. Hyperparameter optimization using RandomizedSearchCV"
      ]
    },
    {
      "cell_type": "code",
      "execution_count": null,
      "metadata": {
        "tags": [],
        "id": "OBWD70c0Tlff",
        "outputId": "272428fc-9b2d-4543-b2dd-d090b7d70e56"
      },
      "outputs": [
        {
          "name": "stdout",
          "output_type": "stream",
          "text": [
            "Fitting 5 folds for each of 4 candidates, totalling 20 fits\n",
            "Best Hyperparameters for SVM RBF: {'svc__C': 2.4713734184878824, 'svc__gamma': 0.03734897347801035}\n",
            "Best Score for SVM RBF: 0.8185238095238094\n"
          ]
        }
      ],
      "source": [
        "# For SVM with RBF kernel: optimizing multiple hyperparameters for a single model\n",
        "\n",
        "from sklearn.model_selection import RandomizedSearchCV\n",
        "from sklearn.pipeline import Pipeline\n",
        "from sklearn.svm import SVC\n",
        "from scipy.stats import uniform, loguniform\n",
        "import numpy as np\n",
        "\n",
        "from scipy.stats import reciprocal\n",
        "\n",
        "\n",
        "param_dist = {\n",
        "    \"svc__C\": reciprocal(0.1, 10),\n",
        "    \"svc__gamma\": reciprocal(0.01, 1)\n",
        "}\n",
        "\n",
        "random_search_svm = RandomizedSearchCV(\n",
        "    pipe_svm, param_dist, n_iter=4, verbose=1, n_jobs=-1, random_state=123\n",
        ")\n",
        "\n",
        "random_search_svm.fit(X_train, y_train)\n",
        "best_params_svm = random_search_svm.best_params_\n",
        "best_score_svm = random_search_svm.best_score_\n",
        "\n",
        "\n",
        "print(\"Best Hyperparameters for SVM RBF:\", best_params_svm)\n",
        "print(\"Best Score for SVM RBF:\", best_score_svm)\n",
        "\n",
        "# Studied: https://docs.scipy.org/doc/scipy-0.14.0/reference/generated/scipy.stats.reciprocal.html"
      ]
    },
    {
      "cell_type": "code",
      "execution_count": null,
      "metadata": {
        "id": "qFMhlt0qTlff",
        "outputId": "e51f4fb6-7fc8-4f46-eb5e-d5d515abfa8f"
      },
      "outputs": [
        {
          "name": "stdout",
          "output_type": "stream",
          "text": [
            "Fitting 5 folds for each of 3 candidates, totalling 15 fits\n"
          ]
        },
        {
          "name": "stderr",
          "output_type": "stream",
          "text": [
            "C:\\Users\\smvan\\anaconda3\\envs\\cpsc330\\lib\\site-packages\\sklearn\\model_selection\\_search.py:306: UserWarning: The total space of parameters 3 is smaller than n_iter=10. Running 3 iterations. For exhaustive searches, use GridSearchCV.\n",
            "  warnings.warn(\n"
          ]
        },
        {
          "name": "stdout",
          "output_type": "stream",
          "text": [
            "Best Hyperparameters for DecisionTreeClassifier: {'decisiontreeclassifier__max_depth': 4}\n",
            "Best Score for DecisionTreeClassifier: 0.8183809523809524\n"
          ]
        }
      ],
      "source": [
        "# For DecisionTreeClassifier\n",
        "from sklearn.model_selection import RandomizedSearchCV\n",
        "from scipy.stats import reciprocal\n",
        "\n",
        "\n",
        "param_dist_dt = {\n",
        "    \"decisiontreeclassifier__max_depth\": [4, 8, 16],\n",
        "}\n",
        "\n",
        "\n",
        "\n",
        "random_search_dt = RandomizedSearchCV(\n",
        "    pipe_dt, param_dist_dt, n_iter=10, verbose=1, n_jobs=-1, random_state=123\n",
        ")\n",
        "random_search_dt.fit(X_train, y_train)\n",
        "\n",
        "\n",
        "\n",
        "\n",
        "best_params_dt = random_search_dt.best_params_\n",
        "best_score_dt = random_search_dt.best_score_\n",
        "\n",
        "\n",
        "\n",
        "print(\"Best Hyperparameters for DecisionTreeClassifier:\", best_params_dt)\n",
        "print(\"Best Score for DecisionTreeClassifier:\", best_score_dt)"
      ]
    },
    {
      "cell_type": "code",
      "execution_count": null,
      "metadata": {
        "tags": [],
        "id": "Ub0KaRmlTlfg",
        "outputId": "a64add6f-7931-4da9-ec6f-871a2b9bb8bc"
      },
      "outputs": [
        {
          "name": "stdout",
          "output_type": "stream",
          "text": [
            "Fitting 5 folds for each of 10 candidates, totalling 50 fits\n",
            "Best Hyperparameters for RandomForestClassifier: {'randomforestclassifier__n_estimators': 200, 'randomforestclassifier__max_depth': 8}\n",
            "Best Score for RandomForestClassifier: 0.8198095238095238\n"
          ]
        }
      ],
      "source": [
        "# For RandomForestClassifier\n",
        "\n",
        "\n",
        "param_dist_rf = {\n",
        "    \"randomforestclassifier__n_estimators\": [100, 200, 300],\n",
        "    \"randomforestclassifier__max_depth\": [4, 8, 10, 14, 16],\n",
        "}\n",
        "\n",
        "\n",
        "random_search_rf = RandomizedSearchCV(\n",
        "    pipe_rf, param_dist_rf, n_iter=10, verbose=1, n_jobs=-1, random_state=123\n",
        ")\n",
        "random_search_rf.fit(X_train, y_train)\n",
        "\n",
        "\n",
        "best_params_rf = random_search_rf.best_params_\n",
        "best_score_rf = random_search_rf.best_score_\n",
        "\n",
        "print(\"Best Hyperparameters for RandomForestClassifier:\", best_params_rf)\n",
        "print(\"Best Score for RandomForestClassifier:\", best_score_rf)"
      ]
    },
    {
      "cell_type": "code",
      "execution_count": null,
      "metadata": {
        "tags": [],
        "id": "lKNnWt5eTlfg",
        "outputId": "5955df74-a234-4b23-cf24-bd6f9d93ca36"
      },
      "outputs": [
        {
          "name": "stdout",
          "output_type": "stream",
          "text": [
            "Fitting 5 folds for each of 10 candidates, totalling 50 fits\n",
            "Best Hyperparameters for LogisticRegression: {'logisticregression__C': 0.1440147282846163}\n",
            "Best Score for LogisticRegression: 0.8166666666666667\n"
          ]
        }
      ],
      "source": [
        "# For LogisticRegression\n",
        "\n",
        "\n",
        "\n",
        "param_dist_lr = {\n",
        "    \"logisticregression__C\": reciprocal(0.001, 1),\n",
        "}\n",
        "\n",
        "\n",
        "\n",
        "random_search_lr = RandomizedSearchCV(\n",
        "    pipe_lr, param_dist_lr, n_iter=10, verbose=1, n_jobs=-1, random_state=123\n",
        ")\n",
        "random_search_lr.fit(X_train, y_train)\n",
        "\n",
        "\n",
        "\n",
        "\n",
        "best_params_lr = random_search_lr.best_params_\n",
        "best_score_lr = random_search_lr.best_score_\n",
        "\n",
        "print(\"Best Hyperparameters for LogisticRegression:\", best_params_lr)\n",
        "print(\"Best Score for LogisticRegression:\", best_score_lr)"
      ]
    },
    {
      "cell_type": "markdown",
      "metadata": {
        "id": "lNw5p4beTlfh"
      },
      "source": [
        "Summarizing our results:\n",
        "\n",
        "We can see from doing RandomSearchCV on all 4 models (including Logistic Regression), that we are getting the best score for the RandomForestClassifier model (0.8198095238095238) and the best hyperparameters we identified are n_estimators = 200 and max_depth = 8. The second highest model is SVM with RBF kernel, then DecisionTreeClassifier, and then LogisticRegression. So we can conclude that with hyperparameter optimization, we were able to beat the linear model."
      ]
    },
    {
      "cell_type": "markdown",
      "metadata": {
        "id": "P5-LyUNQTlfh"
      },
      "source": [
        "<!-- END QUESTION -->\n",
        "\n",
        "<br><br>"
      ]
    },
    {
      "cell_type": "markdown",
      "metadata": {
        "id": "7E0DqEXRTlfi"
      },
      "source": [
        "## 11. Interpretation and feature importances"
      ]
    },
    {
      "cell_type": "code",
      "execution_count": null,
      "metadata": {
        "id": "Vzkf6n9RTlfi"
      },
      "outputs": [],
      "source": [
        "ohe_feats = (\n",
        "    preprocessor.named_transformers_[\"pipeline-2\"]\n",
        "    .named_steps[\"onehotencoder\"]\n",
        "    .get_feature_names_out(categorical_features)\n",
        ").tolist()\n",
        "\n",
        "feature_names = numeric_features + ordinal_feature_ed + ordinal_features_pay0 + ordinal_features_pay2 + ordinal_features_pay3 + ordinal_features_pay4 + ordinal_features_pay5 + ordinal_features_pay6 +  binary_features + ohe_feats"
      ]
    },
    {
      "cell_type": "code",
      "execution_count": null,
      "metadata": {
        "id": "dOdQ3kdQTlfi",
        "outputId": "20cc9d5a-0eef-4441-9723-0869796cab00"
      },
      "outputs": [
        {
          "data": {
            "text/plain": [
              "{'standardscaler': StandardScaler(),\n",
              " 'pipeline-1': Pipeline(steps=[('simpleimputer',\n",
              "                  SimpleImputer(missing_values=0, strategy='most_frequent')),\n",
              "                 ('ordinalencoder',\n",
              "                  OrdinalEncoder(categories=[[1, 2, 3, 4, 5, 6]]))]),\n",
              " 'onehotencoder': OneHotEncoder(drop='if_binary', dtype=<class 'int'>),\n",
              " 'pipeline-2': Pipeline(steps=[('simpleimputer',\n",
              "                  SimpleImputer(fill_value='missing', strategy='constant')),\n",
              "                 ('onehotencoder',\n",
              "                  OneHotEncoder(handle_unknown='ignore', sparse=False))]),\n",
              " 'pipeline-3': Pipeline(steps=[('simpleimputer',\n",
              "                  SimpleImputer(missing_values=0, strategy='most_frequent')),\n",
              "                 ('ordinalencoder',\n",
              "                  OrdinalEncoder(categories=[[-1, 1, 2, 3, 4, 5, 6, 7, 8, 9]]))]),\n",
              " 'pipeline-4': Pipeline(steps=[('simpleimputer',\n",
              "                  SimpleImputer(missing_values=0, strategy='most_frequent')),\n",
              "                 ('ordinalencoder',\n",
              "                  OrdinalEncoder(categories=[[-1, 1, 2, 3, 4, 5, 6, 7, 8, 9]]))]),\n",
              " 'pipeline-5': Pipeline(steps=[('simpleimputer',\n",
              "                  SimpleImputer(missing_values=0, strategy='most_frequent')),\n",
              "                 ('ordinalencoder',\n",
              "                  OrdinalEncoder(categories=[[-1, 1, 2, 3, 4, 5, 6, 7, 8, 9]]))]),\n",
              " 'pipeline-6': Pipeline(steps=[('simpleimputer',\n",
              "                  SimpleImputer(missing_values=0, strategy='most_frequent')),\n",
              "                 ('ordinalencoder',\n",
              "                  OrdinalEncoder(categories=[[-1, 1, 2, 3, 4, 5, 6, 7, 8, 9]]))]),\n",
              " 'pipeline-7': Pipeline(steps=[('simpleimputer',\n",
              "                  SimpleImputer(missing_values=0, strategy='most_frequent')),\n",
              "                 ('ordinalencoder',\n",
              "                  OrdinalEncoder(categories=[[-1, 1, 2, 3, 4, 5, 6, 7, 8, 9]]))]),\n",
              " 'pipeline-8': Pipeline(steps=[('simpleimputer',\n",
              "                  SimpleImputer(missing_values=0, strategy='most_frequent')),\n",
              "                 ('ordinalencoder',\n",
              "                  OrdinalEncoder(categories=[[-1, 1, 2, 3, 4, 5, 6, 7, 8, 9]]))]),\n",
              " 'drop': 'drop'}"
            ]
          },
          "execution_count": 42,
          "metadata": {},
          "output_type": "execute_result"
        }
      ],
      "source": [
        "preprocessor.named_transformers_\n"
      ]
    },
    {
      "cell_type": "code",
      "execution_count": null,
      "metadata": {
        "tags": [],
        "id": "tx4DKAPETlfi",
        "outputId": "bf90c022-a8e8-4f92-a680-314c6f70967b"
      },
      "outputs": [
        {
          "data": {
            "text/html": [
              "\n",
              "    <style>\n",
              "    table.eli5-weights tr:hover {\n",
              "        filter: brightness(85%);\n",
              "    }\n",
              "</style>\n",
              "\n",
              "\n",
              "\n",
              "    \n",
              "\n",
              "    \n",
              "\n",
              "    \n",
              "\n",
              "    \n",
              "\n",
              "    \n",
              "\n",
              "    \n",
              "\n",
              "\n",
              "    \n",
              "\n",
              "    \n",
              "\n",
              "    \n",
              "\n",
              "    \n",
              "\n",
              "    \n",
              "\n",
              "    \n",
              "\n",
              "\n",
              "    \n",
              "\n",
              "    \n",
              "\n",
              "    \n",
              "\n",
              "    \n",
              "\n",
              "    \n",
              "        <table class=\"eli5-weights eli5-feature-importances\" style=\"border-collapse: collapse; border: none; margin-top: 0em; table-layout: auto;\">\n",
              "    <thead>\n",
              "    <tr style=\"border: none;\">\n",
              "        <th style=\"padding: 0 1em 0 0.5em; text-align: right; border: none;\">Weight</th>\n",
              "        <th style=\"padding: 0 0.5em 0 0.5em; text-align: left; border: none;\">Feature</th>\n",
              "    </tr>\n",
              "    </thead>\n",
              "    <tbody>\n",
              "    \n",
              "        <tr style=\"background-color: hsl(120, 100.00%, 80.00%); border: none;\">\n",
              "            <td style=\"padding: 0 1em 0 0.5em; text-align: right; border: none;\">\n",
              "                0.0956\n",
              "                \n",
              "                    &plusmn; 0.0833\n",
              "                \n",
              "            </td>\n",
              "            <td style=\"padding: 0 0.5em 0 0.5em; text-align: left; border: none;\">\n",
              "                PAY_6\n",
              "            </td>\n",
              "        </tr>\n",
              "    \n",
              "        <tr style=\"background-color: hsl(120, 100.00%, 85.31%); border: none;\">\n",
              "            <td style=\"padding: 0 1em 0 0.5em; text-align: right; border: none;\">\n",
              "                0.0615\n",
              "                \n",
              "                    &plusmn; 0.0089\n",
              "                \n",
              "            </td>\n",
              "            <td style=\"padding: 0 0.5em 0 0.5em; text-align: left; border: none;\">\n",
              "                AGE\n",
              "            </td>\n",
              "        </tr>\n",
              "    \n",
              "        <tr style=\"background-color: hsl(120, 100.00%, 86.29%); border: none;\">\n",
              "            <td style=\"padding: 0 1em 0 0.5em; text-align: right; border: none;\">\n",
              "                0.0557\n",
              "                \n",
              "                    &plusmn; 0.0176\n",
              "                \n",
              "            </td>\n",
              "            <td style=\"padding: 0 0.5em 0 0.5em; text-align: left; border: none;\">\n",
              "                AVG_PAY_AMT\n",
              "            </td>\n",
              "        </tr>\n",
              "    \n",
              "        <tr style=\"background-color: hsl(120, 100.00%, 86.59%); border: none;\">\n",
              "            <td style=\"padding: 0 1em 0 0.5em; text-align: right; border: none;\">\n",
              "                0.0540\n",
              "                \n",
              "                    &plusmn; 0.0088\n",
              "                \n",
              "            </td>\n",
              "            <td style=\"padding: 0 0.5em 0 0.5em; text-align: left; border: none;\">\n",
              "                LIMIT_BAL\n",
              "            </td>\n",
              "        </tr>\n",
              "    \n",
              "        <tr style=\"background-color: hsl(120, 100.00%, 86.86%); border: none;\">\n",
              "            <td style=\"padding: 0 1em 0 0.5em; text-align: right; border: none;\">\n",
              "                0.0525\n",
              "                \n",
              "                    &plusmn; 0.0118\n",
              "                \n",
              "            </td>\n",
              "            <td style=\"padding: 0 0.5em 0 0.5em; text-align: left; border: none;\">\n",
              "                AVG_BILL_AMT\n",
              "            </td>\n",
              "        </tr>\n",
              "    \n",
              "        <tr style=\"background-color: hsl(120, 100.00%, 86.97%); border: none;\">\n",
              "            <td style=\"padding: 0 1em 0 0.5em; text-align: right; border: none;\">\n",
              "                0.0518\n",
              "                \n",
              "                    &plusmn; 0.0097\n",
              "                \n",
              "            </td>\n",
              "            <td style=\"padding: 0 0.5em 0 0.5em; text-align: left; border: none;\">\n",
              "                BILL_AMT1\n",
              "            </td>\n",
              "        </tr>\n",
              "    \n",
              "        <tr style=\"background-color: hsl(120, 100.00%, 87.87%); border: none;\">\n",
              "            <td style=\"padding: 0 1em 0 0.5em; text-align: right; border: none;\">\n",
              "                0.0468\n",
              "                \n",
              "                    &plusmn; 0.0093\n",
              "                \n",
              "            </td>\n",
              "            <td style=\"padding: 0 0.5em 0 0.5em; text-align: left; border: none;\">\n",
              "                BILL_AMT2\n",
              "            </td>\n",
              "        </tr>\n",
              "    \n",
              "        <tr style=\"background-color: hsl(120, 100.00%, 88.15%); border: none;\">\n",
              "            <td style=\"padding: 0 1em 0 0.5em; text-align: right; border: none;\">\n",
              "                0.0453\n",
              "                \n",
              "                    &plusmn; 0.0149\n",
              "                \n",
              "            </td>\n",
              "            <td style=\"padding: 0 0.5em 0 0.5em; text-align: left; border: none;\">\n",
              "                PAY_AMT1\n",
              "            </td>\n",
              "        </tr>\n",
              "    \n",
              "        <tr style=\"background-color: hsl(120, 100.00%, 88.15%); border: none;\">\n",
              "            <td style=\"padding: 0 1em 0 0.5em; text-align: right; border: none;\">\n",
              "                0.0452\n",
              "                \n",
              "                    &plusmn; 0.0091\n",
              "                \n",
              "            </td>\n",
              "            <td style=\"padding: 0 0.5em 0 0.5em; text-align: left; border: none;\">\n",
              "                BILL_AMT6\n",
              "            </td>\n",
              "        </tr>\n",
              "    \n",
              "        <tr style=\"background-color: hsl(120, 100.00%, 88.33%); border: none;\">\n",
              "            <td style=\"padding: 0 1em 0 0.5em; text-align: right; border: none;\">\n",
              "                0.0443\n",
              "                \n",
              "                    &plusmn; 0.0095\n",
              "                \n",
              "            </td>\n",
              "            <td style=\"padding: 0 0.5em 0 0.5em; text-align: left; border: none;\">\n",
              "                BILL_AMT3\n",
              "            </td>\n",
              "        </tr>\n",
              "    \n",
              "        <tr style=\"background-color: hsl(120, 100.00%, 88.34%); border: none;\">\n",
              "            <td style=\"padding: 0 1em 0 0.5em; text-align: right; border: none;\">\n",
              "                0.0442\n",
              "                \n",
              "                    &plusmn; 0.0102\n",
              "                \n",
              "            </td>\n",
              "            <td style=\"padding: 0 0.5em 0 0.5em; text-align: left; border: none;\">\n",
              "                BILL_AMT4\n",
              "            </td>\n",
              "        </tr>\n",
              "    \n",
              "        <tr style=\"background-color: hsl(120, 100.00%, 88.48%); border: none;\">\n",
              "            <td style=\"padding: 0 1em 0 0.5em; text-align: right; border: none;\">\n",
              "                0.0435\n",
              "                \n",
              "                    &plusmn; 0.0076\n",
              "                \n",
              "            </td>\n",
              "            <td style=\"padding: 0 0.5em 0 0.5em; text-align: left; border: none;\">\n",
              "                BILL_AMT5\n",
              "            </td>\n",
              "        </tr>\n",
              "    \n",
              "        <tr style=\"background-color: hsl(120, 100.00%, 88.71%); border: none;\">\n",
              "            <td style=\"padding: 0 1em 0 0.5em; text-align: right; border: none;\">\n",
              "                0.0422\n",
              "                \n",
              "                    &plusmn; 0.0109\n",
              "                \n",
              "            </td>\n",
              "            <td style=\"padding: 0 0.5em 0 0.5em; text-align: left; border: none;\">\n",
              "                PAY_AMT2\n",
              "            </td>\n",
              "        </tr>\n",
              "    \n",
              "        <tr style=\"background-color: hsl(120, 100.00%, 88.98%); border: none;\">\n",
              "            <td style=\"padding: 0 1em 0 0.5em; text-align: right; border: none;\">\n",
              "                0.0408\n",
              "                \n",
              "                    &plusmn; 0.0087\n",
              "                \n",
              "            </td>\n",
              "            <td style=\"padding: 0 0.5em 0 0.5em; text-align: left; border: none;\">\n",
              "                PAY_AMT5\n",
              "            </td>\n",
              "        </tr>\n",
              "    \n",
              "        <tr style=\"background-color: hsl(120, 100.00%, 88.98%); border: none;\">\n",
              "            <td style=\"padding: 0 1em 0 0.5em; text-align: right; border: none;\">\n",
              "                0.0408\n",
              "                \n",
              "                    &plusmn; 0.0840\n",
              "                \n",
              "            </td>\n",
              "            <td style=\"padding: 0 0.5em 0 0.5em; text-align: left; border: none;\">\n",
              "                SEX\n",
              "            </td>\n",
              "        </tr>\n",
              "    \n",
              "        <tr style=\"background-color: hsl(120, 100.00%, 89.11%); border: none;\">\n",
              "            <td style=\"padding: 0 1em 0 0.5em; text-align: right; border: none;\">\n",
              "                0.0401\n",
              "                \n",
              "                    &plusmn; 0.0086\n",
              "                \n",
              "            </td>\n",
              "            <td style=\"padding: 0 0.5em 0 0.5em; text-align: left; border: none;\">\n",
              "                PAY_AMT6\n",
              "            </td>\n",
              "        </tr>\n",
              "    \n",
              "        <tr style=\"background-color: hsl(120, 100.00%, 89.11%); border: none;\">\n",
              "            <td style=\"padding: 0 1em 0 0.5em; text-align: right; border: none;\">\n",
              "                0.0401\n",
              "                \n",
              "                    &plusmn; 0.0099\n",
              "                \n",
              "            </td>\n",
              "            <td style=\"padding: 0 0.5em 0 0.5em; text-align: left; border: none;\">\n",
              "                PAY_AMT3\n",
              "            </td>\n",
              "        </tr>\n",
              "    \n",
              "        <tr style=\"background-color: hsl(120, 100.00%, 89.49%); border: none;\">\n",
              "            <td style=\"padding: 0 1em 0 0.5em; text-align: right; border: none;\">\n",
              "                0.0381\n",
              "                \n",
              "                    &plusmn; 0.0094\n",
              "                \n",
              "            </td>\n",
              "            <td style=\"padding: 0 0.5em 0 0.5em; text-align: left; border: none;\">\n",
              "                PAY_AMT4\n",
              "            </td>\n",
              "        </tr>\n",
              "    \n",
              "        <tr style=\"background-color: hsl(120, 100.00%, 91.53%); border: none;\">\n",
              "            <td style=\"padding: 0 1em 0 0.5em; text-align: right; border: none;\">\n",
              "                0.0280\n",
              "                \n",
              "                    &plusmn; 0.0601\n",
              "                \n",
              "            </td>\n",
              "            <td style=\"padding: 0 0.5em 0 0.5em; text-align: left; border: none;\">\n",
              "                MARRIAGE_married\n",
              "            </td>\n",
              "        </tr>\n",
              "    \n",
              "        <tr style=\"background-color: hsl(120, 100.00%, 93.69%); border: none;\">\n",
              "            <td style=\"padding: 0 1em 0 0.5em; text-align: right; border: none;\">\n",
              "                0.0184\n",
              "                \n",
              "                    &plusmn; 0.0439\n",
              "                \n",
              "            </td>\n",
              "            <td style=\"padding: 0 0.5em 0 0.5em; text-align: left; border: none;\">\n",
              "                MARRIAGE_missing\n",
              "            </td>\n",
              "        </tr>\n",
              "    \n",
              "    \n",
              "        \n",
              "            <tr style=\"background-color: hsl(120, 100.00%, 93.69%); border: none;\">\n",
              "                <td colspan=\"2\" style=\"padding: 0 0.5em 0 0.5em; text-align: center; border: none; white-space: nowrap;\">\n",
              "                    <i>&hellip; 8 more &hellip;</i>\n",
              "                </td>\n",
              "            </tr>\n",
              "        \n",
              "    \n",
              "    </tbody>\n",
              "</table>\n",
              "    \n",
              "\n",
              "    \n",
              "\n",
              "\n",
              "    \n",
              "\n",
              "    \n",
              "\n",
              "    \n",
              "\n",
              "    \n",
              "\n",
              "    \n",
              "\n",
              "    \n",
              "\n",
              "\n",
              "\n"
            ],
            "text/plain": [
              "Explanation(estimator='RandomForestClassifier(random_state=123)', description='\\nRandom forest feature importances; values are numbers 0 <= x <= 1;\\nall values sum to 1.\\n', error=None, method='feature importances', is_regression=False, targets=None, feature_importances=FeatureImportances(importances=[FeatureWeight(feature='PAY_6', weight=0.09557064131778867, std=0.04164879153473384, value=None), FeatureWeight(feature='AGE', weight=0.061526993562435475, std=0.004468951934139452, value=None), FeatureWeight(feature='AVG_PAY_AMT', weight=0.05574760256005008, std=0.008777881157082895, value=None), FeatureWeight(feature='LIMIT_BAL', weight=0.053999617557223906, std=0.004421178237592169, value=None), FeatureWeight(feature='AVG_BILL_AMT', weight=0.05245712825068529, std=0.005903005786602622, value=None), FeatureWeight(feature='BILL_AMT1', weight=0.05181343677107738, std=0.004865453100169379, value=None), FeatureWeight(feature='BILL_AMT2', weight=0.04678285074943298, std=0.004631962450263071, value=None), FeatureWeight(feature='PAY_AMT1', weight=0.0452568171459801, std=0.007433411239372807, value=None), FeatureWeight(feature='BILL_AMT6', weight=0.04524961791551555, std=0.004550260639936597, value=None), FeatureWeight(feature='BILL_AMT3', weight=0.04425766775376336, std=0.004745486150642715, value=None), FeatureWeight(feature='BILL_AMT4', weight=0.04423622143352146, std=0.00511002781617163, value=None), FeatureWeight(feature='BILL_AMT5', weight=0.043455138460668334, std=0.003789420653216968, value=None), FeatureWeight(feature='PAY_AMT2', weight=0.042206711059980896, std=0.005467128582814585, value=None), FeatureWeight(feature='PAY_AMT5', weight=0.04080166314897379, std=0.004325142748372465, value=None), FeatureWeight(feature='SEX', weight=0.04079745692359595, std=0.04201349701104448, value=None), FeatureWeight(feature='PAY_AMT6', weight=0.0401207654469432, std=0.0042785580431216625, value=None), FeatureWeight(feature='PAY_AMT3', weight=0.040102428066969315, std=0.004953409864127578, value=None), FeatureWeight(feature='PAY_AMT4', weight=0.038105447257669366, std=0.004675913769682446, value=None), FeatureWeight(feature='MARRIAGE_married', weight=0.028003857669913257, std=0.030031026362276475, value=None), FeatureWeight(feature='MARRIAGE_missing', weight=0.01840755775016432, std=0.021948158367202274, value=None)], remaining=8), decision_tree=None, highlight_spaces=None, transition_features=None, image=None)"
            ]
          },
          "execution_count": 43,
          "metadata": {},
          "output_type": "execute_result"
        }
      ],
      "source": [
        "import eli5\n",
        "pipe_rf.fit(X_train, y_train)\n",
        "eli5.explain_weights(\n",
        "    pipe_rf.named_steps[\"randomforestclassifier\"], feature_names=feature_names\n",
        ")\n"
      ]
    },
    {
      "cell_type": "code",
      "execution_count": null,
      "metadata": {
        "tags": [],
        "id": "oJEDPSO3Tlfi",
        "outputId": "c60e1b5c-e2da-4f56-a653-aa437e668540"
      },
      "outputs": [
        {
          "data": {
            "text/html": [
              "<div>\n",
              "<style scoped>\n",
              "    .dataframe tbody tr th:only-of-type {\n",
              "        vertical-align: middle;\n",
              "    }\n",
              "\n",
              "    .dataframe tbody tr th {\n",
              "        vertical-align: top;\n",
              "    }\n",
              "\n",
              "    .dataframe thead th {\n",
              "        text-align: right;\n",
              "    }\n",
              "</style>\n",
              "<table border=\"1\" class=\"dataframe\">\n",
              "  <thead>\n",
              "    <tr style=\"text-align: right;\">\n",
              "      <th></th>\n",
              "      <th>Importance</th>\n",
              "    </tr>\n",
              "  </thead>\n",
              "  <tbody>\n",
              "    <tr>\n",
              "      <th>PAY_6</th>\n",
              "      <td>0.095571</td>\n",
              "    </tr>\n",
              "    <tr>\n",
              "      <th>AGE</th>\n",
              "      <td>0.061527</td>\n",
              "    </tr>\n",
              "    <tr>\n",
              "      <th>AVG_PAY_AMT</th>\n",
              "      <td>0.055748</td>\n",
              "    </tr>\n",
              "    <tr>\n",
              "      <th>LIMIT_BAL</th>\n",
              "      <td>0.054000</td>\n",
              "    </tr>\n",
              "    <tr>\n",
              "      <th>AVG_BILL_AMT</th>\n",
              "      <td>0.052457</td>\n",
              "    </tr>\n",
              "    <tr>\n",
              "      <th>BILL_AMT1</th>\n",
              "      <td>0.051813</td>\n",
              "    </tr>\n",
              "    <tr>\n",
              "      <th>BILL_AMT2</th>\n",
              "      <td>0.046783</td>\n",
              "    </tr>\n",
              "    <tr>\n",
              "      <th>PAY_AMT1</th>\n",
              "      <td>0.045257</td>\n",
              "    </tr>\n",
              "    <tr>\n",
              "      <th>BILL_AMT6</th>\n",
              "      <td>0.045250</td>\n",
              "    </tr>\n",
              "    <tr>\n",
              "      <th>BILL_AMT3</th>\n",
              "      <td>0.044258</td>\n",
              "    </tr>\n",
              "  </tbody>\n",
              "</table>\n",
              "</div>"
            ],
            "text/plain": [
              "              Importance\n",
              "PAY_6           0.095571\n",
              "AGE             0.061527\n",
              "AVG_PAY_AMT     0.055748\n",
              "LIMIT_BAL       0.054000\n",
              "AVG_BILL_AMT    0.052457\n",
              "BILL_AMT1       0.051813\n",
              "BILL_AMT2       0.046783\n",
              "PAY_AMT1        0.045257\n",
              "BILL_AMT6       0.045250\n",
              "BILL_AMT3       0.044258"
            ]
          },
          "execution_count": 44,
          "metadata": {},
          "output_type": "execute_result"
        }
      ],
      "source": [
        "# Finding the most important features\n",
        "\n",
        "data = {\n",
        "    \"Importance\": pipe_rf.named_steps[\"randomforestclassifier\"].feature_importances_,\n",
        "}\n",
        "pd.DataFrame(data=data, index=feature_names,).sort_values(\n",
        "    by=\"Importance\", ascending=False\n",
        ")[:10]"
      ]
    },
    {
      "cell_type": "markdown",
      "metadata": {
        "tags": [],
        "id": "q9HQrHGlTlfj"
      },
      "source": [
        "Summarizing our observations:\n",
        "\n",
        "From the feature importance table above, generated using eli5 shows us the 10 most important features. The order of importance in descending order is: PAY_6, AGE, AVG_PAY_AMT, LIMIT_BAL, AVG_BILL_AMT, BILL_AMT1, BILL_AMT2, PAY_ATM1, BILL_AMT6, BILL_AMT3. These values tell us globally about which features are important."
      ]
    },
    {
      "cell_type": "markdown",
      "metadata": {
        "id": "CTnX3vJmTlfj"
      },
      "source": [
        "<!-- END QUESTION -->\n",
        "\n",
        "<br><br>"
      ]
    },
    {
      "cell_type": "markdown",
      "metadata": {
        "tags": [],
        "id": "K5gM1En1Tlfj"
      },
      "source": [
        "## 12. Results on the test set"
      ]
    },
    {
      "cell_type": "code",
      "execution_count": null,
      "metadata": {
        "tags": [],
        "id": "2RweB6qITlfj",
        "outputId": "ab783f07-9617-4ad2-a909-1b9532c2d214"
      },
      "outputs": [
        {
          "name": "stdout",
          "output_type": "stream",
          "text": [
            "The test score is: 0.8222222222222222\n"
          ]
        }
      ],
      "source": [
        "# Part 1:\n",
        "\n",
        "final_pipeline = make_pipeline(preprocessor, RandomForestClassifier(n_estimators=200, max_depth=8))\n",
        "final_pipeline.fit(X_train, y_train)\n",
        "test_score = final_pipeline.score(X_test, y_test)\n",
        "\n",
        "print(\"The test score is:\", test_score)"
      ]
    },
    {
      "cell_type": "code",
      "execution_count": null,
      "metadata": {
        "tags": [],
        "id": "GaqNtpK-Tlfj",
        "outputId": "b73f71ca-3837-4c4a-b19b-16ce8e3bd3f1"
      },
      "outputs": [
        {
          "data": {
            "text/plain": [
              "array([[0.85764357, 0.14235643],\n",
              "       [0.88151488, 0.11848512],\n",
              "       [0.24091776, 0.75908224],\n",
              "       ...,\n",
              "       [0.78325914, 0.21674086],\n",
              "       [0.81072638, 0.18927362],\n",
              "       [0.41158406, 0.58841594]])"
            ]
          },
          "execution_count": 46,
          "metadata": {},
          "output_type": "execute_result"
        }
      ],
      "source": [
        "# Prediction probability\n",
        "predictions = final_pipeline.predict_proba(X_test)\n",
        "predictions"
      ]
    },
    {
      "cell_type": "markdown",
      "metadata": {
        "tags": [],
        "id": "RRcZfxV0Tlfk"
      },
      "source": [
        "Part 2: Do the test scores agree with the validation scores from before? To what extent do you trust your results? Do you think you've had issues with optimization bias?\n",
        "\n",
        "When using the RandomForestClassifier model with RandomSearchCV we found the optimum hyperparameter value for n_estimators is 200 and for max_depth it is 8. The resulting cross-validation score using these parameters is 0.8198095238095238. Comparing this with our test score of 0.8203333333333334 indicates that there is good agreement between the two scores. There is only a small difference of score between the cross-validation score and the test score which suggests that the model's performance on unseen data (test set) is consistent with its performance on the validation data. We can also compare our test score with the other models' cross-validation scores and conclude that the test accuracy is very close and higher than the accuracy of the other models.\n",
        "\n",
        "In regards to trusting the results, since the test score is close to the validation score provides some confidence in the model's generalization ability. Above we can also see the results from predict_prob suggesting an overall high probability for the final prediction of default/no default for the test cases.\n",
        "\n",
        "Our model has used techniques such as cross-validation and hyperparameter tuning to ensure the model's performance is robust across different data samples. There is though a limitation on the different number of values we can practically provide to param_dist_rf which can be a cause of slight optimization bias. However, we have completed cross-validation and hyperparameter tuning to the best of our abilities and resources."
      ]
    },
    {
      "cell_type": "code",
      "execution_count": null,
      "metadata": {
        "tags": [],
        "id": "ygkNJUesTlfk",
        "outputId": "c8f69fa4-41e1-4642-b400-e3a6facf0693"
      },
      "outputs": [
        {
          "data": {
            "text/html": [
              "<div>\n",
              "<style scoped>\n",
              "    .dataframe tbody tr th:only-of-type {\n",
              "        vertical-align: middle;\n",
              "    }\n",
              "\n",
              "    .dataframe tbody tr th {\n",
              "        vertical-align: top;\n",
              "    }\n",
              "\n",
              "    .dataframe thead th {\n",
              "        text-align: right;\n",
              "    }\n",
              "</style>\n",
              "<table border=\"1\" class=\"dataframe\">\n",
              "  <thead>\n",
              "    <tr style=\"text-align: right;\">\n",
              "      <th></th>\n",
              "      <th>LIMIT_BAL</th>\n",
              "      <th>AGE</th>\n",
              "      <th>AVG_BILL_AMT</th>\n",
              "      <th>AVG_PAY_AMT</th>\n",
              "      <th>BILL_AMT1</th>\n",
              "      <th>BILL_AMT2</th>\n",
              "      <th>BILL_AMT3</th>\n",
              "      <th>BILL_AMT4</th>\n",
              "      <th>BILL_AMT5</th>\n",
              "      <th>BILL_AMT6</th>\n",
              "      <th>...</th>\n",
              "      <th>PAY_2</th>\n",
              "      <th>PAY_3</th>\n",
              "      <th>PAY_4</th>\n",
              "      <th>PAY_5</th>\n",
              "      <th>PAY_6</th>\n",
              "      <th>SEX</th>\n",
              "      <th>MARRIAGE_married</th>\n",
              "      <th>MARRIAGE_missing</th>\n",
              "      <th>MARRIAGE_others</th>\n",
              "      <th>MARRIAGE_single</th>\n",
              "    </tr>\n",
              "  </thead>\n",
              "  <tbody>\n",
              "    <tr>\n",
              "      <th>16395</th>\n",
              "      <td>1.168355</td>\n",
              "      <td>0.054187</td>\n",
              "      <td>-0.395799</td>\n",
              "      <td>-0.173458</td>\n",
              "      <td>-0.300665</td>\n",
              "      <td>-0.293394</td>\n",
              "      <td>-0.265310</td>\n",
              "      <td>-0.371930</td>\n",
              "      <td>-0.494781</td>\n",
              "      <td>-0.587035</td>\n",
              "      <td>...</td>\n",
              "      <td>0.0</td>\n",
              "      <td>0.0</td>\n",
              "      <td>0.0</td>\n",
              "      <td>1.0</td>\n",
              "      <td>0.0</td>\n",
              "      <td>0.0</td>\n",
              "      <td>0.0</td>\n",
              "      <td>0.0</td>\n",
              "      <td>0.0</td>\n",
              "      <td>0.0</td>\n",
              "    </tr>\n",
              "    <tr>\n",
              "      <th>21448</th>\n",
              "      <td>2.090017</td>\n",
              "      <td>-0.597108</td>\n",
              "      <td>0.679910</td>\n",
              "      <td>4.185515</td>\n",
              "      <td>-0.685307</td>\n",
              "      <td>-0.679495</td>\n",
              "      <td>0.585444</td>\n",
              "      <td>1.970295</td>\n",
              "      <td>1.805461</td>\n",
              "      <td>1.327534</td>\n",
              "      <td>...</td>\n",
              "      <td>0.0</td>\n",
              "      <td>0.0</td>\n",
              "      <td>0.0</td>\n",
              "      <td>1.0</td>\n",
              "      <td>0.0</td>\n",
              "      <td>0.0</td>\n",
              "      <td>0.0</td>\n",
              "      <td>0.0</td>\n",
              "      <td>0.0</td>\n",
              "      <td>0.0</td>\n",
              "    </tr>\n",
              "    <tr>\n",
              "      <th>20034</th>\n",
              "      <td>-0.060527</td>\n",
              "      <td>0.922579</td>\n",
              "      <td>-0.709155</td>\n",
              "      <td>-0.517197</td>\n",
              "      <td>-0.696132</td>\n",
              "      <td>-0.688319</td>\n",
              "      <td>-0.681234</td>\n",
              "      <td>-0.670935</td>\n",
              "      <td>-0.661045</td>\n",
              "      <td>-0.650908</td>\n",
              "      <td>...</td>\n",
              "      <td>1.0</td>\n",
              "      <td>0.0</td>\n",
              "      <td>0.0</td>\n",
              "      <td>0.0</td>\n",
              "      <td>0.0</td>\n",
              "      <td>0.0</td>\n",
              "      <td>0.0</td>\n",
              "      <td>0.0</td>\n",
              "      <td>0.0</td>\n",
              "      <td>0.0</td>\n",
              "    </tr>\n",
              "    <tr>\n",
              "      <th>25755</th>\n",
              "      <td>-0.367748</td>\n",
              "      <td>-0.597108</td>\n",
              "      <td>0.684784</td>\n",
              "      <td>-0.188086</td>\n",
              "      <td>0.687456</td>\n",
              "      <td>0.752583</td>\n",
              "      <td>0.835581</td>\n",
              "      <td>0.918719</td>\n",
              "      <td>0.501203</td>\n",
              "      <td>0.144527</td>\n",
              "      <td>...</td>\n",
              "      <td>1.0</td>\n",
              "      <td>0.0</td>\n",
              "      <td>0.0</td>\n",
              "      <td>0.0</td>\n",
              "      <td>0.0</td>\n",
              "      <td>0.0</td>\n",
              "      <td>0.0</td>\n",
              "      <td>0.0</td>\n",
              "      <td>0.0</td>\n",
              "      <td>0.0</td>\n",
              "    </tr>\n",
              "    <tr>\n",
              "      <th>1438</th>\n",
              "      <td>-0.905384</td>\n",
              "      <td>2.008070</td>\n",
              "      <td>-0.170296</td>\n",
              "      <td>-0.409324</td>\n",
              "      <td>-0.040230</td>\n",
              "      <td>-0.031399</td>\n",
              "      <td>-0.287429</td>\n",
              "      <td>-0.245237</td>\n",
              "      <td>-0.204599</td>\n",
              "      <td>-0.191104</td>\n",
              "      <td>...</td>\n",
              "      <td>0.0</td>\n",
              "      <td>0.0</td>\n",
              "      <td>0.0</td>\n",
              "      <td>1.0</td>\n",
              "      <td>1.0</td>\n",
              "      <td>2.0</td>\n",
              "      <td>0.0</td>\n",
              "      <td>0.0</td>\n",
              "      <td>0.0</td>\n",
              "      <td>0.0</td>\n",
              "    </tr>\n",
              "  </tbody>\n",
              "</table>\n",
              "<p>5 rows × 28 columns</p>\n",
              "</div>"
            ],
            "text/plain": [
              "       LIMIT_BAL       AGE  AVG_BILL_AMT  AVG_PAY_AMT  BILL_AMT1  BILL_AMT2  \\\n",
              "16395   1.168355  0.054187     -0.395799    -0.173458  -0.300665  -0.293394   \n",
              "21448   2.090017 -0.597108      0.679910     4.185515  -0.685307  -0.679495   \n",
              "20034  -0.060527  0.922579     -0.709155    -0.517197  -0.696132  -0.688319   \n",
              "25755  -0.367748 -0.597108      0.684784    -0.188086   0.687456   0.752583   \n",
              "1438   -0.905384  2.008070     -0.170296    -0.409324  -0.040230  -0.031399   \n",
              "\n",
              "       BILL_AMT3  BILL_AMT4  BILL_AMT5  BILL_AMT6  ...  PAY_2  PAY_3  PAY_4  \\\n",
              "16395  -0.265310  -0.371930  -0.494781  -0.587035  ...    0.0    0.0    0.0   \n",
              "21448   0.585444   1.970295   1.805461   1.327534  ...    0.0    0.0    0.0   \n",
              "20034  -0.681234  -0.670935  -0.661045  -0.650908  ...    1.0    0.0    0.0   \n",
              "25755   0.835581   0.918719   0.501203   0.144527  ...    1.0    0.0    0.0   \n",
              "1438   -0.287429  -0.245237  -0.204599  -0.191104  ...    0.0    0.0    0.0   \n",
              "\n",
              "       PAY_5  PAY_6  SEX  MARRIAGE_married  MARRIAGE_missing  MARRIAGE_others  \\\n",
              "16395    1.0    0.0  0.0               0.0               0.0              0.0   \n",
              "21448    1.0    0.0  0.0               0.0               0.0              0.0   \n",
              "20034    0.0    0.0  0.0               0.0               0.0              0.0   \n",
              "25755    0.0    0.0  0.0               0.0               0.0              0.0   \n",
              "1438     1.0    1.0  2.0               0.0               0.0              0.0   \n",
              "\n",
              "       MARRIAGE_single  \n",
              "16395              0.0  \n",
              "21448              0.0  \n",
              "20034              0.0  \n",
              "25755              0.0  \n",
              "1438               0.0  \n",
              "\n",
              "[5 rows x 28 columns]"
            ]
          },
          "execution_count": 47,
          "metadata": {},
          "output_type": "execute_result"
        }
      ],
      "source": [
        "X_train_enc = pd.DataFrame(\n",
        "    data=preprocessor.transform(X_train),\n",
        "    columns=feature_names,\n",
        "    index=X_train.index,\n",
        ")\n",
        "X_train_enc.head()"
      ]
    },
    {
      "cell_type": "code",
      "execution_count": null,
      "metadata": {
        "tags": [],
        "id": "ddniEn6QTlfk",
        "outputId": "9cd30059-b2fb-4efe-b5f3-5ce577d0cc7d"
      },
      "outputs": [
        {
          "data": {
            "text/plain": [
              "(9000, 28)"
            ]
          },
          "execution_count": 48,
          "metadata": {},
          "output_type": "execute_result"
        }
      ],
      "source": [
        "X_test_enc = pd.DataFrame(\n",
        "    data=preprocessor.transform(X_test),\n",
        "    columns=feature_names,\n",
        "    index=X_test.index,\n",
        ")\n",
        "X_test_enc.shape"
      ]
    },
    {
      "cell_type": "code",
      "execution_count": null,
      "metadata": {
        "tags": [],
        "id": "7EGKaOyHTlfk"
      },
      "outputs": [],
      "source": [
        "import warnings\n",
        "\n",
        "# Reactivate default warning settings after disabling them\n",
        "\n",
        "# As a best practice, we should try not to suppress warnings without a good reason and\n",
        "# be sure to reactivate them when suppressing them is not needed anymore.\n",
        "\n",
        "# To ignore warnings:\n",
        "# warnings.simplefilter(action=\"ignore\", category=UserWarning)\n",
        "\n",
        "# To reactivate warnings:\n",
        "# warnings.simplefilter(action=\"default\", category=UserWarning)\n",
        "\n",
        "from numba import NumbaDeprecationWarning\n",
        "\n",
        "warnings.simplefilter(action=\"ignore\", category=NumbaDeprecationWarning)  # ignore warnings\n",
        "warnings.simplefilter(action=\"ignore\", category=UserWarning)  # ignore warnings"
      ]
    },
    {
      "cell_type": "code",
      "execution_count": null,
      "metadata": {
        "id": "NCWZbf3ZTlfl"
      },
      "outputs": [],
      "source": [
        "import shap\n",
        "rf_explainer = shap.TreeExplainer(pipe_rf.named_steps[\"randomforestclassifier\"])"
      ]
    },
    {
      "cell_type": "code",
      "execution_count": null,
      "metadata": {
        "id": "R6spiCP3Tlfl"
      },
      "outputs": [],
      "source": [
        "selected_indices = [0, 1]\n",
        "X_train_selected = X_train_enc.iloc[selected_indices]\n",
        "\n",
        "train_rf_shap_values = rf_explainer.shap_values(X_train_selected)"
      ]
    },
    {
      "cell_type": "code",
      "execution_count": null,
      "metadata": {
        "id": "PAb_ITJaTlfl"
      },
      "outputs": [],
      "source": [
        "warnings.simplefilter(action=\"default\", category=NumbaDeprecationWarning)  # reactivate warnings\n",
        "warnings.simplefilter(action=\"default\", category=UserWarning)  # reactivate warnings"
      ]
    },
    {
      "cell_type": "code",
      "execution_count": null,
      "metadata": {
        "id": "RpDyebvTTlfl",
        "outputId": "d44031cf-d6d4-4024-870d-d6e89b75883b"
      },
      "outputs": [
        {
          "data": {
            "text/plain": [
              "[array([[ 2.25278971e-02,  4.37492669e-03,  1.60202547e-02,\n",
              "          2.47320620e-02,  1.80142662e-02,  5.27083178e-03,\n",
              "          5.78544807e-03,  1.11555203e-03,  3.13843541e-03,\n",
              "          5.43334975e-03,  1.19598108e-02,  1.07983684e-02,\n",
              "         -2.27133093e-04,  5.70699428e-03, -1.08818189e-02,\n",
              "         -5.50073662e-03,  4.47948137e-03,  2.22651773e-03,\n",
              "          1.41939569e-03, -8.48641893e-06,  2.01822667e-04,\n",
              "          3.29374179e-03,  3.57664069e-02,  1.74971868e-02,\n",
              "          1.26413382e-02,  7.98878458e-03,  5.23254947e-03,\n",
              "          4.63465749e-03],\n",
              "        [ 4.17886358e-02,  5.31068405e-03,  4.98453085e-03,\n",
              "          5.39341133e-02, -4.27697495e-03,  1.13220267e-03,\n",
              "         -8.74802897e-03, -7.17822590e-03, -1.35039148e-02,\n",
              "         -6.97826891e-03, -2.09167301e-02,  8.60307413e-03,\n",
              "          6.56291512e-03,  1.10572105e-02,  1.80198900e-02,\n",
              "         -4.58677557e-03,  5.26987879e-03,  2.57818448e-03,\n",
              "          2.50000299e-03, -5.22833089e-06,  1.35951592e-04,\n",
              "          2.99834455e-03,  2.28717018e-02,  1.08342300e-02,\n",
              "          1.33197000e-02,  6.51612461e-03,  6.01875608e-03,\n",
              "          5.39992095e-03]]),\n",
              " array([[-2.25278971e-02, -4.37492669e-03, -1.60202547e-02,\n",
              "         -2.47320620e-02, -1.80142662e-02, -5.27083178e-03,\n",
              "         -5.78544807e-03, -1.11555203e-03, -3.13843541e-03,\n",
              "         -5.43334975e-03, -1.19598108e-02, -1.07983684e-02,\n",
              "          2.27133093e-04, -5.70699428e-03,  1.08818189e-02,\n",
              "          5.50073662e-03, -4.47948137e-03, -2.22651773e-03,\n",
              "         -1.41939569e-03,  8.48641893e-06, -2.01822667e-04,\n",
              "         -3.29374179e-03, -3.57664069e-02, -1.74971868e-02,\n",
              "         -1.26413382e-02, -7.98878458e-03, -5.23254947e-03,\n",
              "         -4.63465749e-03],\n",
              "        [-4.17886358e-02, -5.31068405e-03, -4.98453085e-03,\n",
              "         -5.39341133e-02,  4.27697495e-03, -1.13220267e-03,\n",
              "          8.74802897e-03,  7.17822590e-03,  1.35039148e-02,\n",
              "          6.97826891e-03,  2.09167301e-02, -8.60307413e-03,\n",
              "         -6.56291512e-03, -1.10572105e-02, -1.80198900e-02,\n",
              "          4.58677557e-03, -5.26987879e-03, -2.57818448e-03,\n",
              "         -2.50000299e-03,  5.22833089e-06, -1.35951592e-04,\n",
              "         -2.99834455e-03, -2.28717018e-02, -1.08342300e-02,\n",
              "         -1.33197000e-02, -6.51612461e-03, -6.01875608e-03,\n",
              "         -5.39992095e-03]])]"
            ]
          },
          "execution_count": 53,
          "metadata": {},
          "output_type": "execute_result"
        }
      ],
      "source": [
        "train_rf_shap_values"
      ]
    },
    {
      "cell_type": "code",
      "execution_count": null,
      "metadata": {
        "id": "n-O84pQ0Tlfm",
        "outputId": "58294ede-4b8b-4d5a-c367-4abda2441b79"
      },
      "outputs": [
        {
          "data": {
            "text/plain": [
              "(2, 28)"
            ]
          },
          "execution_count": 54,
          "metadata": {},
          "output_type": "execute_result"
        }
      ],
      "source": [
        "train_rf_shap_values[1].shape"
      ]
    },
    {
      "cell_type": "code",
      "execution_count": null,
      "metadata": {
        "id": "_P-9axwGTlfm"
      },
      "outputs": [],
      "source": [
        "warnings.simplefilter(action=\"ignore\", category=UserWarning)  # ignore warnings\n",
        "\n",
        "selected_indices = [0, 1]\n",
        "X_test_selected = X_test_enc.iloc[selected_indices]\n",
        "\n",
        "test_rf_shap_values = rf_explainer.shap_values(X_test_selected)\n",
        "\n",
        "warnings.simplefilter(action=\"default\", category=UserWarning)  # reactivate warnings"
      ]
    },
    {
      "cell_type": "code",
      "execution_count": null,
      "metadata": {
        "id": "-40Wg6DZTlfm",
        "outputId": "0a4a4b5f-a952-4a0a-ee1e-9f08925d1a53"
      },
      "outputs": [
        {
          "data": {
            "text/plain": [
              "(2, 28)"
            ]
          },
          "execution_count": 56,
          "metadata": {},
          "output_type": "execute_result"
        }
      ],
      "source": [
        "test_rf_shap_values[1].shape"
      ]
    },
    {
      "cell_type": "code",
      "execution_count": null,
      "metadata": {
        "id": "bmql-uG5Tlfn",
        "outputId": "32853f33-9aca-4c51-d2c1-03aa57827607"
      },
      "outputs": [
        {
          "data": {
            "text/plain": [
              "0       0\n",
              "1       0\n",
              "2       1\n",
              "3       1\n",
              "4       0\n",
              "       ..\n",
              "8995    1\n",
              "8996    0\n",
              "8997    0\n",
              "8998    1\n",
              "8999    0\n",
              "Name: default.payment.next.month, Length: 9000, dtype: int64"
            ]
          },
          "execution_count": 57,
          "metadata": {},
          "output_type": "execute_result"
        }
      ],
      "source": [
        "y_test_reset = y_test.reset_index(drop=True)\n",
        "y_test_reset"
      ]
    },
    {
      "cell_type": "code",
      "execution_count": null,
      "metadata": {
        "id": "GuJG7bCdTlfn"
      },
      "outputs": [],
      "source": [
        "default_ind = y_test_reset[y_test_reset == 1].index.tolist()\n",
        "not_default_ind = y_test_reset[y_test_reset == 0].index.tolist()\n",
        "\n",
        "ex_default_index = default_ind[10]\n",
        "ex_not_default_index = not_default_ind[0]"
      ]
    },
    {
      "cell_type": "markdown",
      "metadata": {
        "id": "HSD-La9pTlfn"
      },
      "source": [
        "**Example with prediction of 0 (Not default)**"
      ]
    },
    {
      "cell_type": "code",
      "execution_count": null,
      "metadata": {
        "id": "ZYUO7NstTlfn",
        "outputId": "045fbe57-ac50-4c69-9a8a-b97ec256fbde"
      },
      "outputs": [
        {
          "data": {
            "text/plain": [
              "array([0, 1], dtype=int64)"
            ]
          },
          "execution_count": 59,
          "metadata": {},
          "output_type": "execute_result"
        }
      ],
      "source": [
        "pipe_rf.named_steps[\"randomforestclassifier\"].classes_"
      ]
    },
    {
      "cell_type": "code",
      "execution_count": null,
      "metadata": {
        "id": "-mSNtFGtTlfo",
        "outputId": "8fe9a6d5-9086-450f-d59f-95f9a2802cf7"
      },
      "outputs": [
        {
          "data": {
            "text/plain": [
              "array([0.79, 0.21])"
            ]
          },
          "execution_count": 60,
          "metadata": {},
          "output_type": "execute_result"
        }
      ],
      "source": [
        "X_test_selected_no_names = X_test_selected.values\n",
        "pipe_rf.named_steps[\"randomforestclassifier\"].predict_proba(X_test_selected_no_names)[ex_not_default_index]"
      ]
    },
    {
      "cell_type": "code",
      "execution_count": null,
      "metadata": {
        "id": "p7vm1mrETlfo",
        "outputId": "b58ba554-e5e9-4265-bd59-36d826c80775"
      },
      "outputs": [
        {
          "data": {
            "text/plain": [
              "array([0, 0], dtype=int64)"
            ]
          },
          "execution_count": 61,
          "metadata": {},
          "output_type": "execute_result"
        }
      ],
      "source": [
        "pipe_rf.named_steps[\"randomforestclassifier\"].predict(X_test_selected_no_names)"
      ]
    },
    {
      "cell_type": "code",
      "execution_count": null,
      "metadata": {
        "id": "Ja3NAnWVTlfo",
        "outputId": "725a67f2-0aaf-4638-b466-c6142cf907b4"
      },
      "outputs": [
        {
          "data": {
            "text/plain": [
              "0.0"
            ]
          },
          "execution_count": 62,
          "metadata": {},
          "output_type": "execute_result"
        }
      ],
      "source": [
        "pipe_rf.named_steps[\"randomforestclassifier\"].predict(X_test_selected_no_names).mean()"
      ]
    },
    {
      "cell_type": "code",
      "execution_count": null,
      "metadata": {
        "id": "qDj0aqPhTlfo",
        "outputId": "dac1ee12-fc80-4497-bcb8-6aeb1d30dbf4"
      },
      "outputs": [
        {
          "data": {
            "text/plain": [
              "0.22364190476190474"
            ]
          },
          "execution_count": 63,
          "metadata": {},
          "output_type": "execute_result"
        }
      ],
      "source": [
        "rf_explainer.expected_value[1]"
      ]
    },
    {
      "cell_type": "code",
      "execution_count": null,
      "metadata": {
        "id": "zNuYZQwdTlfo",
        "outputId": "94a028c2-f389-432c-bcd1-8a25ac83af71"
      },
      "outputs": [
        {
          "data": {
            "text/plain": [
              "0.7763580952380954"
            ]
          },
          "execution_count": 64,
          "metadata": {},
          "output_type": "execute_result"
        }
      ],
      "source": [
        "rf_explainer.expected_value[0]"
      ]
    },
    {
      "cell_type": "code",
      "execution_count": null,
      "metadata": {
        "id": "VDG-2NGdTlfp"
      },
      "outputs": [],
      "source": [
        "X_test_selected = round(X_test_selected, 3)  # for better visualization"
      ]
    },
    {
      "cell_type": "code",
      "execution_count": null,
      "metadata": {
        "id": "Djs56jHgTlfp",
        "outputId": "34e019a9-a8e5-4d34-dfbe-d3be66157729"
      },
      "outputs": [
        {
          "data": {
            "image/png": "[encoded data removed]",
            "text/plain": [
              "<Figure size 2000x300 with 1 Axes>"
            ]
          },
          "metadata": {},
          "output_type": "display_data"
        }
      ],
      "source": [
        "shap.force_plot(\n",
        "    rf_explainer.expected_value[1],\n",
        "    test_rf_shap_values[1][ex_not_default_index, :],\n",
        "    X_test_selected.iloc[ex_not_default_index, :],\n",
        "    matplotlib=True,\n",
        ")"
      ]
    },
    {
      "cell_type": "markdown",
      "metadata": {
        "id": "YOD9ftAmTlfp"
      },
      "source": [
        "Explaining this individual prediction with SHAP force plot:\n",
        "\n",
        "Scaled PAY_ATM1 = -0.257, scaled PAY_ATM2 = -0.225, scaled PAY_ATM6 = 0.263, scaled BILL_ATM5 = 0.059, scaled PAY_ATM5 = -0.267, and scaled LIMIT_BAL = -0.982 are pushing the prediction towards higher score. Scaled PAY_6 = 0.0, scaled AVG_PAY_ATM = 0.061, and scaled BILL_ATM1 = -0.301 are pushing the prediction towards lower score."
      ]
    },
    {
      "cell_type": "code",
      "execution_count": null,
      "metadata": {
        "id": "C4wO7UUaTlfp",
        "outputId": "59564d12-f723-455a-f2fa-c124f2a24b23"
      },
      "outputs": [
        {
          "data": {
            "text/html": [
              "<div>\n",
              "<style scoped>\n",
              "    .dataframe tbody tr th:only-of-type {\n",
              "        vertical-align: middle;\n",
              "    }\n",
              "\n",
              "    .dataframe tbody tr th {\n",
              "        vertical-align: top;\n",
              "    }\n",
              "\n",
              "    .dataframe thead th {\n",
              "        text-align: right;\n",
              "    }\n",
              "</style>\n",
              "<table border=\"1\" class=\"dataframe\">\n",
              "  <thead>\n",
              "    <tr style=\"text-align: right;\">\n",
              "      <th></th>\n",
              "      <th>SHAP values</th>\n",
              "    </tr>\n",
              "  </thead>\n",
              "  <tbody>\n",
              "    <tr>\n",
              "      <th>LIMIT_BAL</th>\n",
              "      <td>0.029880</td>\n",
              "    </tr>\n",
              "    <tr>\n",
              "      <th>PAY_AMT5</th>\n",
              "      <td>0.027714</td>\n",
              "    </tr>\n",
              "    <tr>\n",
              "      <th>BILL_AMT5</th>\n",
              "      <td>0.024473</td>\n",
              "    </tr>\n",
              "    <tr>\n",
              "      <th>PAY_AMT6</th>\n",
              "      <td>0.016493</td>\n",
              "    </tr>\n",
              "    <tr>\n",
              "      <th>PAY_AMT2</th>\n",
              "      <td>0.013605</td>\n",
              "    </tr>\n",
              "    <tr>\n",
              "      <th>PAY_AMT1</th>\n",
              "      <td>0.013171</td>\n",
              "    </tr>\n",
              "    <tr>\n",
              "      <th>PAY_AMT4</th>\n",
              "      <td>0.005165</td>\n",
              "    </tr>\n",
              "    <tr>\n",
              "      <th>BILL_AMT6</th>\n",
              "      <td>0.004901</td>\n",
              "    </tr>\n",
              "    <tr>\n",
              "      <th>BILL_AMT3</th>\n",
              "      <td>0.004553</td>\n",
              "    </tr>\n",
              "    <tr>\n",
              "      <th>PAY_0</th>\n",
              "      <td>0.001842</td>\n",
              "    </tr>\n",
              "    <tr>\n",
              "      <th>EDUCATION</th>\n",
              "      <td>0.000912</td>\n",
              "    </tr>\n",
              "    <tr>\n",
              "      <th>PAY_3</th>\n",
              "      <td>-0.000006</td>\n",
              "    </tr>\n",
              "    <tr>\n",
              "      <th>PAY_4</th>\n",
              "      <td>-0.000078</td>\n",
              "    </tr>\n",
              "    <tr>\n",
              "      <th>BILL_AMT4</th>\n",
              "      <td>-0.002575</td>\n",
              "    </tr>\n",
              "    <tr>\n",
              "      <th>MARRIAGE_single</th>\n",
              "      <td>-0.003069</td>\n",
              "    </tr>\n",
              "    <tr>\n",
              "      <th>BILL_AMT2</th>\n",
              "      <td>-0.004336</td>\n",
              "    </tr>\n",
              "    <tr>\n",
              "      <th>AGE</th>\n",
              "      <td>-0.005567</td>\n",
              "    </tr>\n",
              "    <tr>\n",
              "      <th>PAY_2</th>\n",
              "      <td>-0.006508</td>\n",
              "    </tr>\n",
              "    <tr>\n",
              "      <th>PAY_AMT3</th>\n",
              "      <td>-0.006683</td>\n",
              "    </tr>\n",
              "    <tr>\n",
              "      <th>MARRIAGE_others</th>\n",
              "      <td>-0.007079</td>\n",
              "    </tr>\n",
              "    <tr>\n",
              "      <th>MARRIAGE_missing</th>\n",
              "      <td>-0.007342</td>\n",
              "    </tr>\n",
              "    <tr>\n",
              "      <th>PAY_5</th>\n",
              "      <td>-0.008277</td>\n",
              "    </tr>\n",
              "    <tr>\n",
              "      <th>AVG_BILL_AMT</th>\n",
              "      <td>-0.008915</td>\n",
              "    </tr>\n",
              "    <tr>\n",
              "      <th>MARRIAGE_married</th>\n",
              "      <td>-0.013168</td>\n",
              "    </tr>\n",
              "    <tr>\n",
              "      <th>SEX</th>\n",
              "      <td>-0.015830</td>\n",
              "    </tr>\n",
              "    <tr>\n",
              "      <th>BILL_AMT1</th>\n",
              "      <td>-0.016208</td>\n",
              "    </tr>\n",
              "    <tr>\n",
              "      <th>AVG_PAY_AMT</th>\n",
              "      <td>-0.024317</td>\n",
              "    </tr>\n",
              "    <tr>\n",
              "      <th>PAY_6</th>\n",
              "      <td>-0.026391</td>\n",
              "    </tr>\n",
              "  </tbody>\n",
              "</table>\n",
              "</div>"
            ],
            "text/plain": [
              "                  SHAP values\n",
              "LIMIT_BAL            0.029880\n",
              "PAY_AMT5             0.027714\n",
              "BILL_AMT5            0.024473\n",
              "PAY_AMT6             0.016493\n",
              "PAY_AMT2             0.013605\n",
              "PAY_AMT1             0.013171\n",
              "PAY_AMT4             0.005165\n",
              "BILL_AMT6            0.004901\n",
              "BILL_AMT3            0.004553\n",
              "PAY_0                0.001842\n",
              "EDUCATION            0.000912\n",
              "PAY_3               -0.000006\n",
              "PAY_4               -0.000078\n",
              "BILL_AMT4           -0.002575\n",
              "MARRIAGE_single     -0.003069\n",
              "BILL_AMT2           -0.004336\n",
              "AGE                 -0.005567\n",
              "PAY_2               -0.006508\n",
              "PAY_AMT3            -0.006683\n",
              "MARRIAGE_others     -0.007079\n",
              "MARRIAGE_missing    -0.007342\n",
              "PAY_5               -0.008277\n",
              "AVG_BILL_AMT        -0.008915\n",
              "MARRIAGE_married    -0.013168\n",
              "SEX                 -0.015830\n",
              "BILL_AMT1           -0.016208\n",
              "AVG_PAY_AMT         -0.024317\n",
              "PAY_6               -0.026391"
            ]
          },
          "execution_count": 67,
          "metadata": {},
          "output_type": "execute_result"
        }
      ],
      "source": [
        "pd.DataFrame(\n",
        "    test_rf_shap_values[1][ex_not_default_index, :],\n",
        "    index=feature_names,\n",
        "    columns=[\"SHAP values\"],\n",
        ").sort_values('SHAP values', ascending=False)"
      ]
    },
    {
      "cell_type": "markdown",
      "metadata": {
        "id": "gQv9Pz7cTlfq"
      },
      "source": [
        "<!-- END QUESTION -->\n",
        "\n",
        "<br><br>"
      ]
    },
    {
      "cell_type": "markdown",
      "metadata": {
        "id": "bS5LOaWXTlfq"
      },
      "source": [
        "## 13. Summary of results"
      ]
    },
    {
      "cell_type": "code",
      "execution_count": null,
      "metadata": {
        "id": "zSnwKK32Tlfq",
        "outputId": "293c5e27-c95c-4e58-f3c1-c507f844c318"
      },
      "outputs": [
        {
          "data": {
            "text/html": [
              "<div>\n",
              "<style scoped>\n",
              "    .dataframe tbody tr th:only-of-type {\n",
              "        vertical-align: middle;\n",
              "    }\n",
              "\n",
              "    .dataframe tbody tr th {\n",
              "        vertical-align: top;\n",
              "    }\n",
              "\n",
              "    .dataframe thead th {\n",
              "        text-align: right;\n",
              "    }\n",
              "</style>\n",
              "<table border=\"1\" class=\"dataframe\">\n",
              "  <thead>\n",
              "    <tr style=\"text-align: right;\">\n",
              "      <th></th>\n",
              "      <th>Metric used for analysis</th>\n",
              "      <th>Score</th>\n",
              "    </tr>\n",
              "  </thead>\n",
              "  <tbody>\n",
              "    <tr>\n",
              "      <th>0</th>\n",
              "      <td>Accuracy</td>\n",
              "      <td>0.813111</td>\n",
              "    </tr>\n",
              "    <tr>\n",
              "      <th>1</th>\n",
              "      <td>Precision</td>\n",
              "      <td>0.612903</td>\n",
              "    </tr>\n",
              "    <tr>\n",
              "      <th>2</th>\n",
              "      <td>Recall</td>\n",
              "      <td>0.370637</td>\n",
              "    </tr>\n",
              "    <tr>\n",
              "      <th>3</th>\n",
              "      <td>F1 Score</td>\n",
              "      <td>0.461932</td>\n",
              "    </tr>\n",
              "  </tbody>\n",
              "</table>\n",
              "</div>"
            ],
            "text/plain": [
              "  Metric used for analysis     Score\n",
              "0                 Accuracy  0.813111\n",
              "1                Precision  0.612903\n",
              "2                   Recall  0.370637\n",
              "3                 F1 Score  0.461932"
            ]
          },
          "execution_count": 68,
          "metadata": {},
          "output_type": "execute_result"
        }
      ],
      "source": [
        "from sklearn.metrics import accuracy_score, precision_score, recall_score, f1_score\n",
        "\n",
        "\n",
        "\n",
        "pipe_rf.fit(X_train, y_train)\n",
        "y_pred = pipe_rf.predict(X_test)\n",
        "\n",
        "\n",
        "accuracy = accuracy_score(y_test, y_pred)\n",
        "precision = precision_score(y_test, y_pred)\n",
        "recall = recall_score(y_test, y_pred)\n",
        "f1 = f1_score(y_test, y_pred)\n",
        "\n",
        "\n",
        "summary_table = pd.DataFrame({\n",
        "    'Metric used for analysis': ['Accuracy', 'Precision', 'Recall', 'F1 Score'],\n",
        "    'Score': [accuracy, precision, recall, f1]\n",
        "})\n",
        "\n",
        "summary_table\n"
      ]
    },
    {
      "cell_type": "markdown",
      "metadata": {
        "id": "-wtj35CLTlfq"
      },
      "source": [
        "Concluding remarks:\n",
        "\n",
        "We have tried different machine learning models (both linear and non-linear) to figure out which one is the best for this particular problem. We have also performed hyperparameter optimization on our different models to see if the model we initially thought works well is the same one after doing hyperparameter optimization. We learned that doing hyperparamter optimization is an important step for improving model accuracy. The best model we were able to generate was the RandomForestClassifier which gave us a validation score of 0.8198095238095238. We used that model on our test set and got a score of 0.8203333333333334. The scores of both validation and test are quite similar indicating that our model is predicting well on unseen data as well. Based on these metrics, the model demonstrates reasonably good accuracy, but it shows lower performance in terms of precision, recall, and F1 score. The lower recall indicates that the model may have difficulty capturing a portion of the positive instances in the dataset. This could be an area of improvement for future iterations of the model.  "
      ]
    },
    {
      "cell_type": "markdown",
      "metadata": {
        "id": "hfNRExpDTlfr"
      },
      "source": [
        "Discuss other ideas that you did not try but could potentially improve the performance/interpretability:\n",
        "\n",
        "Something that we can do in the future is to understand what the unknowns/missing values mean in our dataset and extract the dataset from the source without missing information or a better understanding of the cause of the missing values. We could also understand if the unknown values we considered to be missing are similar or different. For this problem we assumed that missing values, 0s and -2 in PAY_# for 6 months, 0s in MARRIAGE, and 0s, 5s, and 6s in EDUCATION represent missing values since they do not hold any representation of data as per the dataset description in Kaggle. So we used the most frequent value in the column to replace these values. However, it may be possible that they impact the target in very different ways. So, we believe that studying these relationships between the missing data and target will potentially help improve the performance/interpretability."
      ]
    },
    {
      "cell_type": "code",
      "execution_count": null,
      "metadata": {
        "tags": [],
        "id": "88pQAnT_Tlfr",
        "outputId": "844cc98b-6088-46f6-e91d-ba12b4eab0af"
      },
      "outputs": [
        {
          "data": {
            "image/png": "[encoded data removed]",
            "text/plain": [
              "<Figure size 800x600 with 1 Axes>"
            ]
          },
          "metadata": {},
          "output_type": "display_data"
        }
      ],
      "source": [
        "# Confusion matrix\n",
        "from sklearn.metrics import confusion_matrix\n",
        "import seaborn as sns\n",
        "\n",
        "pipe_rf.fit(X_train, y_train)\n",
        "y_pred = pipe_rf.predict(X_test)\n",
        "\n",
        "cm = confusion_matrix(y_test, y_pred)\n",
        "\n",
        "plt.figure(figsize=(8, 6))\n",
        "sns.heatmap(cm, annot=True, cmap=\"Blues\", fmt=\"d\", cbar=False)\n",
        "plt.xlabel(\"Predicted\")\n",
        "plt.ylabel(\"True\")\n",
        "plt.title(\"Confusion Matrix - RandomForestClassifier Model\")\n",
        "plt.show()"
      ]
    },
    {
      "cell_type": "markdown",
      "metadata": {
        "id": "J02kRmq2Tlfr"
      },
      "source": [
        "Our final test score is this 0.8203333333333334 and the metric we used is accuracy. The accuracy is 0.813111.\n",
        "\n",
        "The precision score is 0.612903, which identifies that out of all instances predicted as positive, nearly 61.29% of them were truly positive.\n",
        "\n",
        "The recall score is 0.370637, indicating that the model correctly predicted approximately 37.06% of the actual positive instances.\n",
        "\n",
        "The F1 score (harmonic mean of precision and recall) is 0.461932. It provides a balanced measure of the model's performance, considering both precision and recall."
      ]
    },
    {
      "cell_type": "markdown",
      "metadata": {
        "id": "B9LAEqBITlfr"
      },
      "source": [
        "<br><br>"
      ]
    },
    {
      "cell_type": "markdown",
      "metadata": {
        "id": "xzt_4vpFTlfr"
      },
      "source": [
        "## 14. My Learning\n",
        "\n",
        "Biggest takeaway from the supervised machine learning material after doing this project:"
      ]
    },
    {
      "cell_type": "markdown",
      "metadata": {
        "id": "OLxB70n0Tlfs"
      },
      "source": [
        "\n",
        "Our biggest takeaway from the supervised machine learning material we have learned so far is the importance of having a through understanding of the dataset provided to us so that we are able to take steps like preprocessing to ensure the manipulation of our data such that the model's ability to generalize increases. Moreover, we understood how necessary feature engineering is when we are working with large datasets. Feature engineering not only lets us extract meaningful information from the data but also enhances the model's performance.\n",
        "\n",
        "Learning about supervised machine learning material helped us understand that even though a model may work well on predicting targets there are techniques to improve it or even completely different models that treat the data in a different way and still perform well. Trying to find the best approach for this problem was really interesting for us and helped us learn the material we talked about in a deeper way."
      ]
    }
  ],
  "metadata": {
    "kernelspec": {
      "display_name": "Python 3 (ipykernel)",
      "language": "python",
      "name": "python3"
    },
    "language_info": {
      "codemirror_mode": {
        "name": "ipython",
        "version": 3
      },
      "file_extension": ".py",
      "mimetype": "text/x-python",
      "name": "python",
      "nbconvert_exporter": "python",
      "pygments_lexer": "ipython3",
      "version": "3.10.9"
    },
    "otter": {
      "OK_FORMAT": true,
      "tests": {}
    },
    "colab": {
      "provenance": []
    }
  },
  "nbformat": 4,
  "nbformat_minor": 0
}